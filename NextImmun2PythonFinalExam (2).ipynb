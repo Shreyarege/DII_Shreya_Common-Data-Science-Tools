{
  "cells": [
    {
      "cell_type": "markdown",
      "metadata": {
        "id": "9Wpep-sI3ojO"
      },
      "source": [
        "## This Jupyter Notebook serves as a demo Workflow of cleaning and exploring IgE measurements with Pax for an allergen panel involve testing blood samples to detect Immunoglobulin E (IgE) antibody levels against specific allergens using the Pax system.\n",
        "\n",
        "Fill in the empty code cells below. Feel free to add more code cells if needed."
      ]
    },
    {
      "cell_type": "markdown",
      "metadata": {
        "id": "EEGRQs2QEGs0"
      },
      "source": [
        "### Data upload:\n",
        "- Use the upload button on the left to upload the file: 'PAX_Data.xlsx'\n",
        "- By default the data should have been upload to into the folder '/content'"
      ]
    },
    {
      "cell_type": "markdown",
      "metadata": {
        "id": "apC-TfeGEkuC"
      },
      "source": [
        "## Load the required modules\n",
        "- Just run the following code-cell to load all modules needed for this exercise"
      ]
    },
    {
      "cell_type": "code",
      "execution_count": 285,
      "metadata": {
        "id": "l-jtRZ_b8J1K"
      },
      "outputs": [],
      "source": [
        "import os\n",
        "import pandas as pd\n",
        "import numpy as np"
      ]
    },
    {
      "cell_type": "markdown",
      "metadata": {
        "id": "b2m0MQK8C6JK"
      },
      "source": [
        "### Checking the working directory:\n",
        "- use 'os.getcwd()' method to check for the current working directory.\n",
        "- If you are using Google Colab, the default working directory should be the folder 'content'\n",
        "- If not, use the 'os. chdir(<path>)' method to make sure to set the working directory"
      ]
    },
    {
      "cell_type": "code",
      "execution_count": 286,
      "metadata": {
        "colab": {
          "base_uri": "https://localhost:8080/",
          "height": 35
        },
        "id": "jCGpnwB79b_P",
        "outputId": "96fb7bd2-2521-4df8-8065-ca42e81ba7ca"
      },
      "outputs": [
        {
          "output_type": "execute_result",
          "data": {
            "text/plain": [
              "'/content'"
            ],
            "application/vnd.google.colaboratory.intrinsic+json": {
              "type": "string"
            }
          },
          "metadata": {},
          "execution_count": 286
        }
      ],
      "source": [
        "os.getcwd()"
      ]
    },
    {
      "cell_type": "markdown",
      "metadata": {
        "id": "NvsWxy8F9-uy"
      },
      "source": [
        "## Read the excel file\n",
        "- if you are not using Google Colab, make sure to set the path to your data file correctly: \\'<FILE-PATH\\>/PAX_Data.xlsx'\n",
        "- use: 'Sheet1' as sheet_name\n",
        "- ignore the header: header=None\n",
        "- assign the loaded data to a variable called: df\n"
      ]
    },
    {
      "cell_type": "code",
      "execution_count": 287,
      "metadata": {
        "id": "bF0WoJbC8d02"
      },
      "outputs": [],
      "source": [
        "df = pd.read_excel('PAX_Data.xlsx')"
      ]
    },
    {
      "cell_type": "markdown",
      "metadata": {
        "id": "M6yjtn4WGiez"
      },
      "source": [
        "### Print the 'shape' of the dataframe"
      ]
    },
    {
      "cell_type": "code",
      "execution_count": 310,
      "metadata": {
        "colab": {
          "base_uri": "https://localhost:8080/"
        },
        "id": "BbpLo_WBGcYY",
        "outputId": "161efe2f-7973-4787-a8b8-6bc3ed1e8f76"
      },
      "outputs": [
        {
          "output_type": "stream",
          "name": "stdout",
          "text": [
            "(249, 6616)\n"
          ]
        }
      ],
      "source": [
        "print(df.shape)"
      ]
    },
    {
      "cell_type": "markdown",
      "metadata": {
        "id": "OcRJcshNI6SG"
      },
      "source": [
        "[link text](https://)### Print the number of rows:"
      ]
    },
    {
      "cell_type": "code",
      "execution_count": 311,
      "metadata": {
        "colab": {
          "base_uri": "https://localhost:8080/"
        },
        "id": "npdOHFeOI_0B",
        "outputId": "3cc8cc61-6eed-4766-a1b5-3bd6cf87b759"
      },
      "outputs": [
        {
          "output_type": "stream",
          "name": "stdout",
          "text": [
            "Number of rows: 249\n"
          ]
        }
      ],
      "source": [
        "print(\"Number of rows:\", df.shape[0])"
      ]
    },
    {
      "cell_type": "markdown",
      "metadata": {
        "id": "FIQmZ_3i_ex0"
      },
      "source": [
        "### Use the 'head' method to have a look at the first 10 rows of the table"
      ]
    },
    {
      "cell_type": "code",
      "execution_count": 312,
      "metadata": {
        "colab": {
          "base_uri": "https://localhost:8080/"
        },
        "id": "p0HlMDZF9D-5",
        "outputId": "209b067c-eb6b-4155-92aa-6dd81685bda3"
      },
      "outputs": [
        {
          "output_type": "stream",
          "name": "stdout",
          "text": [
            "  Date of test       2023-04-13    2023-04-13.1    2023-04-13.2  \\\n",
            "0  Test number      2334000487D     2331000683D     2331000884D   \n",
            "1      Country            Spain      Netherland         Germany   \n",
            "2      Age Y/M  3Years 11Months  2Years 8Months  2Years 8Months   \n",
            "3          Sex           Female            Male            Male   \n",
            "4        Cyn d             18.5           19.67           20.11   \n",
            "5     rCyn d 1            22.99           21.95           20.66   \n",
            "6        Dac g            19.15           19.57           21.78   \n",
            "7        Fes p            21.84            21.3           26.96   \n",
            "8     rLol p 1            22.33           22.23           22.59   \n",
            "9        Pas n            21.17           22.28           21.03   \n",
            "\n",
            "     2023-04-13.3      2023-04-13.4    2023-04-13.5    2023-04-13.6  \\\n",
            "0     2331000880D       2331000851D     2331001025D     2331000881D   \n",
            "1         Germany        Netherland          Sweden         Germany   \n",
            "2  7Years 9Months  11Years 11Months  4Years 8Months  1Years 9Months   \n",
            "3          Female              Male          Female            Male   \n",
            "4           18.09             17.92           17.78           18.64   \n",
            "5           21.68             20.56           21.62           22.83   \n",
            "6           18.37             18.12           19.35           19.95   \n",
            "7           24.05             23.21           22.62           21.98   \n",
            "8           21.99             23.16           21.27           22.99   \n",
            "9           21.77             20.55           19.32           30.85   \n",
            "\n",
            "     2023-04-13.7    2023-04-13.8  ...   2023-06-30.97   2023-06-30.98  \\\n",
            "0     2331000879D     2344000227D  ...     2334002233D     2348000664D   \n",
            "1         Germany              UK  ...        Slovenia          Poland   \n",
            "2  6Years 9Months  3Years 8Months  ...  8Years 8Months  3Years 7Months   \n",
            "3          Female          Female  ...          Female          Female   \n",
            "4            21.3            20.5  ...           16.33           17.18   \n",
            "5            23.2           25.07  ...           23.27           21.77   \n",
            "6           21.52           20.55  ...           19.28           20.33   \n",
            "7           24.55           20.39  ...           21.14           22.39   \n",
            "8           23.95           21.35  ...           17.81           19.57   \n",
            "9           23.31           20.62  ...           21.95           22.21   \n",
            "\n",
            "    2023-06-30.99  2023-06-30.100  2023-06-30.101  2023-06-30.102  \\\n",
            "0     2331003597D     2331003185D     2331003447D     2334002232D   \n",
            "1         Belgium          Norway      Netherland        Slovenia   \n",
            "2  3Years 7Months  1Years 5Months  1Years 5Months  2Years 5Months   \n",
            "3          Female          Female          Female            Male   \n",
            "4           15.48           15.79           18.64           17.44   \n",
            "5           21.78           20.69           26.49           20.76   \n",
            "6           17.34           19.06           18.86           17.84   \n",
            "7           20.93           21.78           19.95           20.64   \n",
            "8           22.76           21.23           21.77           19.41   \n",
            "9           19.55           21.57           18.23           19.71   \n",
            "\n",
            "   2023-06-30.103  2023-06-30.104  2023-06-30.105  2023-06-30.106  \n",
            "0     2344000712D     2331003547D     2344000711D     2334002236D  \n",
            "1              UK      Netherland              UK           Spain  \n",
            "2  2Years 5Months  2Years 5Months  2Years 5Months  2Years 5Months  \n",
            "3            Male            Male            Male            Male  \n",
            "4           17.05           18.42           19.03           16.73  \n",
            "5           21.07           24.48            21.4           20.12  \n",
            "6           18.67           19.99           21.01            17.4  \n",
            "7           20.79           19.24           24.33           20.77  \n",
            "8           22.32           20.15            22.7           20.96  \n",
            "9            21.6           20.64           18.91           18.46  \n",
            "\n",
            "[10 rows x 6616 columns]\n"
          ]
        }
      ],
      "source": [
        "print(df.head(10))"
      ]
    },
    {
      "cell_type": "markdown",
      "metadata": {
        "id": "FGDpXLD4JKbf"
      },
      "source": [
        "### Splitting the Data:\n",
        "- As you can see, row 0 to 4 contains the metadata of the experiment\n",
        "- Row 5 to end contains the measured expression data of Allergens\n",
        "\n",
        "Now, we need to split the data into:\n",
        "- Metadata and\n",
        "- Expression data\n",
        "\n",
        "Check the documentation of the pandas method 'iloc'\n",
        "- Split the data, row 0 to 4 and assing it to a variable called: md\n",
        "- From row 5 to end, assing the expression data to a variable called: expr"
      ]
    },
    {
      "cell_type": "code",
      "execution_count": 448,
      "metadata": {
        "id": "GIfzdrCN95Q6"
      },
      "outputs": [],
      "source": [
        "md = df.iloc[0:4]\n",
        "expr = df.iloc[5:]"
      ]
    },
    {
      "cell_type": "code",
      "execution_count": null,
      "metadata": {
        "id": "q9C8YMSA_u54"
      },
      "outputs": [],
      "source": []
    },
    {
      "cell_type": "markdown",
      "metadata": {
        "id": "YP7i_N0vLXZl"
      },
      "source": [
        "### Print the 'shape' of each new table"
      ]
    },
    {
      "cell_type": "code",
      "execution_count": 449,
      "metadata": {
        "colab": {
          "base_uri": "https://localhost:8080/"
        },
        "id": "ud1T07b-KXmM",
        "outputId": "b3179d7f-29bd-4d5f-a741-2516d312769b"
      },
      "outputs": [
        {
          "output_type": "stream",
          "name": "stdout",
          "text": [
            "Metadata shape: (4, 6616)\n",
            "Expression shape: (244, 6616)\n"
          ]
        }
      ],
      "source": [
        "print(\"Metadata shape:\", md.shape)\n",
        "print(\"Expression shape:\", expr.shape)"
      ]
    },
    {
      "cell_type": "markdown",
      "metadata": {
        "id": "uFK6FwvxMVtV"
      },
      "source": [
        "[link text](https://)### Use the 'head' method to inspect the expr table\n"
      ]
    },
    {
      "cell_type": "code",
      "execution_count": 450,
      "metadata": {
        "colab": {
          "base_uri": "https://localhost:8080/"
        },
        "id": "UFm5WkVVKiy0",
        "outputId": "f897c855-89b1-488a-f8a3-58b28a85eac0"
      },
      "outputs": [
        {
          "output_type": "stream",
          "name": "stdout",
          "text": [
            "     Date of test 2023-04-13 2023-04-13.1 2023-04-13.2 2023-04-13.3  \\\n",
            "5        rCyn d 1      22.99        21.95        20.66        21.68   \n",
            "6           Dac g      19.15        19.57        21.78        18.37   \n",
            "7           Fes p      21.84         21.3        26.96        24.05   \n",
            "8        rLol p 1      22.33        22.23        22.59        21.99   \n",
            "9           Pas n      21.17        22.28        21.03        21.77   \n",
            "10       rPhl p 1      21.77        22.96        21.61        21.55   \n",
            "11       rPhl p 2      19.92        19.45        21.01        19.59   \n",
            "12  rPhl p 5.0101      21.79        19.07        20.15        19.72   \n",
            "13       rPhl p 6      22.25        20.69        23.09        19.94   \n",
            "14       rPhl p 7      19.85        20.36        18.76         20.3   \n",
            "\n",
            "   2023-04-13.4 2023-04-13.5 2023-04-13.6 2023-04-13.7 2023-04-13.8  ...  \\\n",
            "5         20.56        21.62        22.83         23.2        25.07  ...   \n",
            "6         18.12        19.35        19.95        21.52        20.55  ...   \n",
            "7         23.21        22.62        21.98        24.55        20.39  ...   \n",
            "8         23.16        21.27        22.99        23.95        21.35  ...   \n",
            "9         20.55        19.32        30.85        23.31        20.62  ...   \n",
            "10        20.79        22.83        24.76        26.11        21.89  ...   \n",
            "11        20.08        16.71        20.64        21.75        19.86  ...   \n",
            "12         23.4        19.61        23.81        21.44        18.77  ...   \n",
            "13        19.59         18.8        23.23        21.69        18.37  ...   \n",
            "14        17.48        17.58        21.41        21.45        20.06  ...   \n",
            "\n",
            "   2023-06-30.97 2023-06-30.98 2023-06-30.99 2023-06-30.100 2023-06-30.101  \\\n",
            "5          23.27         21.77         21.78          20.69          26.49   \n",
            "6          19.28         20.33         17.34          19.06          18.86   \n",
            "7          21.14         22.39         20.93          21.78          19.95   \n",
            "8          17.81         19.57         22.76          21.23          21.77   \n",
            "9          21.95         22.21         19.55          21.57          18.23   \n",
            "10         21.16         21.13         22.19          20.32             23   \n",
            "11         20.09         18.35         19.01          19.72          19.71   \n",
            "12         19.72         19.68         21.86          19.21          47.15   \n",
            "13         20.43         18.33         19.35          19.79          20.39   \n",
            "14         18.37         16.44         17.93          19.18          20.11   \n",
            "\n",
            "   2023-06-30.102 2023-06-30.103 2023-06-30.104 2023-06-30.105 2023-06-30.106  \n",
            "5           20.76          21.07          24.48           21.4          20.12  \n",
            "6           17.84          18.67          19.99          21.01           17.4  \n",
            "7           20.64          20.79          19.24          24.33          20.77  \n",
            "8           19.41          22.32          20.15           22.7          20.96  \n",
            "9           19.71           21.6          20.64          18.91          18.46  \n",
            "10          20.39          20.86          20.56          20.19           19.3  \n",
            "11           18.6          17.59          19.58          19.38          18.01  \n",
            "12          19.98          22.94          19.48          21.48          20.64  \n",
            "13          19.94          19.59          24.45          19.06          20.69  \n",
            "14          18.43          17.92          21.13          18.02          19.35  \n",
            "\n",
            "[10 rows x 6616 columns]\n"
          ]
        }
      ],
      "source": [
        "print(expr.head(10))"
      ]
    },
    {
      "cell_type": "markdown",
      "metadata": {
        "id": "6DLnuds7NaeC"
      },
      "source": [
        "As you can see column 0 contains the name of the Allergens\n",
        "\n",
        "- Set the Allergen names as the index of the table (similar to rownames in R)example:   'expr.index = ...'\n",
        "- 'drop' the column 0 and override the current variable"
      ]
    },
    {
      "cell_type": "code",
      "execution_count": 451,
      "metadata": {
        "id": "ZhLA3hNhMJCh"
      },
      "outputs": [],
      "source": [
        "expr.index = expr.iloc[:, 0]\n"
      ]
    },
    {
      "cell_type": "code",
      "execution_count": 452,
      "metadata": {
        "id": "ZI85erLrNF_s"
      },
      "outputs": [],
      "source": [
        "expr = expr.drop(columns=expr.columns[0])"
      ]
    },
    {
      "cell_type": "markdown",
      "metadata": {
        "id": "ePM108KeRjfe"
      },
      "source": [
        "### Cleaning the Metadata\n",
        "- Use 'head' to look into the metadata\n",
        "Note that we want to use the rows as columns, therefore:\n",
        "- Transpose the metadata\n",
        "- Change the table: row 0 should be the column names"
      ]
    },
    {
      "cell_type": "code",
      "execution_count": 453,
      "metadata": {
        "colab": {
          "base_uri": "https://localhost:8080/"
        },
        "id": "8L0bNeDfdpKN",
        "outputId": "1d18296a-406a-4e43-f60a-65ee4ff2797e"
      },
      "outputs": [
        {
          "output_type": "stream",
          "name": "stdout",
          "text": [
            "Metadata_BF_transformation:\n",
            "  Date of test       2023-04-13    2023-04-13.1    2023-04-13.2  \\\n",
            "0  Test number      2334000487D     2331000683D     2331000884D   \n",
            "1      Country            Spain      Netherland         Germany   \n",
            "2      Age Y/M  3Years 11Months  2Years 8Months  2Years 8Months   \n",
            "3          Sex           Female            Male            Male   \n",
            "\n",
            "     2023-04-13.3      2023-04-13.4    2023-04-13.5    2023-04-13.6  \\\n",
            "0     2331000880D       2331000851D     2331001025D     2331000881D   \n",
            "1         Germany        Netherland          Sweden         Germany   \n",
            "2  7Years 9Months  11Years 11Months  4Years 8Months  1Years 9Months   \n",
            "3          Female              Male          Female            Male   \n",
            "\n",
            "     2023-04-13.7    2023-04-13.8  ...   2023-06-30.97   2023-06-30.98  \\\n",
            "0     2331000879D     2344000227D  ...     2334002233D     2348000664D   \n",
            "1         Germany              UK  ...        Slovenia          Poland   \n",
            "2  6Years 9Months  3Years 8Months  ...  8Years 8Months  3Years 7Months   \n",
            "3          Female          Female  ...          Female          Female   \n",
            "\n",
            "    2023-06-30.99  2023-06-30.100  2023-06-30.101  2023-06-30.102  \\\n",
            "0     2331003597D     2331003185D     2331003447D     2334002232D   \n",
            "1         Belgium          Norway      Netherland        Slovenia   \n",
            "2  3Years 7Months  1Years 5Months  1Years 5Months  2Years 5Months   \n",
            "3          Female          Female          Female            Male   \n",
            "\n",
            "   2023-06-30.103  2023-06-30.104  2023-06-30.105  2023-06-30.106  \n",
            "0     2344000712D     2331003547D     2344000711D     2334002236D  \n",
            "1              UK      Netherland              UK           Spain  \n",
            "2  2Years 5Months  2Years 5Months  2Years 5Months  2Years 5Months  \n",
            "3            Male            Male            Male            Male  \n",
            "\n",
            "[4 rows x 6616 columns]\n"
          ]
        }
      ],
      "source": [
        "print(\"Metadata_BF_transformation:\")\n",
        "print(md.head())"
      ]
    },
    {
      "cell_type": "code",
      "source": [
        "md_transposed = md.transpose()"
      ],
      "metadata": {
        "id": "0L6ri-3kUcqq"
      },
      "execution_count": 454,
      "outputs": []
    },
    {
      "cell_type": "code",
      "source": [
        "md_transposed.columns = md_transposed.iloc[0]"
      ],
      "metadata": {
        "id": "IOh2Gp_XXKQj"
      },
      "execution_count": 455,
      "outputs": []
    },
    {
      "cell_type": "markdown",
      "metadata": {
        "id": "j9JPHcgcetB4"
      },
      "source": [
        "- Make sure to remove the first row, which now has become the column names"
      ]
    },
    {
      "cell_type": "code",
      "source": [
        "md_transposed = md_transposed.reset_index()\n",
        "md_transposed = md_transposed.rename(columns={'index': 'Date of test'})"
      ],
      "metadata": {
        "id": "nVcsmFRNYmUC"
      },
      "execution_count": 456,
      "outputs": []
    },
    {
      "cell_type": "code",
      "source": [
        "md_transposed = md_transposed[1:].reset_index(drop=True)"
      ],
      "metadata": {
        "id": "is7GvCYAXyTq"
      },
      "execution_count": 457,
      "outputs": []
    },
    {
      "cell_type": "code",
      "source": [
        "print(md_transposed.head())"
      ],
      "metadata": {
        "colab": {
          "base_uri": "https://localhost:8080/"
        },
        "id": "fP1HuMy1M1Oj",
        "outputId": "12875fae-c012-442d-adee-03cffd182c7e"
      },
      "execution_count": 458,
      "outputs": [
        {
          "output_type": "stream",
          "name": "stdout",
          "text": [
            "Date of test  Date of test  Test number     Country           Age Y/M     Sex\n",
            "0               2023-04-13  2334000487D       Spain   3Years 11Months  Female\n",
            "1             2023-04-13.1  2331000683D  Netherland    2Years 8Months    Male\n",
            "2             2023-04-13.2  2331000884D     Germany    2Years 8Months    Male\n",
            "3             2023-04-13.3  2331000880D     Germany    7Years 9Months  Female\n",
            "4             2023-04-13.4  2331000851D  Netherland  11Years 11Months    Male\n"
          ]
        }
      ]
    },
    {
      "cell_type": "markdown",
      "metadata": {
        "id": "UCIywvdoe8dt"
      },
      "source": [
        "### Use 'head' to inspect your table and make sure it looks as below:\n",
        "\n",
        "\tDate of test Test number\tCountry\tAge Y/M**\n",
        "\n",
        "1\t2023-04-13\t2334000487D\tSpain\t3Years 11Months\n",
        "\n",
        "2\t2023-04-13\t2331000683D\tNetherland\t2Years 8Months\n",
        "\n",
        "3\t2023-04-13\t2331000884D\tGermany\t2Years 8Months\n",
        "\n",
        "4\t2023-04-13\t2331000880D\tGermany\t7Years 9Months\n",
        "\n",
        "5\t2023-04-13\t2331000851D\tNetherland\t11Years 11Months"
      ]
    },
    {
      "cell_type": "code",
      "execution_count": 459,
      "metadata": {
        "colab": {
          "base_uri": "https://localhost:8080/"
        },
        "id": "kbloxM7FWPlc",
        "outputId": "20d3dfd2-e26a-45d5-ae2e-423daa6fb17f"
      },
      "outputs": [
        {
          "output_type": "stream",
          "name": "stdout",
          "text": [
            "Metadata with new column names:\n",
            "Date of test  Date of test  Test number     Country           Age Y/M     Sex\n",
            "0               2023-04-13  2334000487D       Spain   3Years 11Months  Female\n",
            "1             2023-04-13.1  2331000683D  Netherland    2Years 8Months    Male\n",
            "2             2023-04-13.2  2331000884D     Germany    2Years 8Months    Male\n",
            "3             2023-04-13.3  2331000880D     Germany    7Years 9Months  Female\n",
            "4             2023-04-13.4  2331000851D  Netherland  11Years 11Months    Male\n"
          ]
        }
      ],
      "source": [
        "print(\"Metadata with new column names:\")\n",
        "print(md_transposed.head())"
      ]
    },
    {
      "cell_type": "markdown",
      "metadata": {
        "id": "-fM9HLLNZXNi"
      },
      "source": [
        "### Rename the Metadata columns\n",
        "- rename the columns 'Date of test' to 'Date', 'Test number' to 'TestID' and 'Age Y/M' to 'Age (M)'"
      ]
    },
    {
      "cell_type": "code",
      "execution_count": 460,
      "metadata": {
        "id": "_LWmnfKCtH0i"
      },
      "outputs": [],
      "source": [
        "md_transposed.rename(columns={\n",
        "    'Date of test': 'Date',\n",
        "    'Test number': 'TestID',\n",
        "    'Age Y/M': 'Age (M)'\n",
        "}, inplace=True)"
      ]
    },
    {
      "cell_type": "markdown",
      "metadata": {
        "id": "5b6bsj-atFuq"
      },
      "source": [
        "### Convert the Age column\n",
        "The function below converts a string into a number of total month e.g.:\n",
        "\n",
        "\"2Years 8Months\" convert to 32.0\n",
        "\n",
        "- use the below function to convert each 'string' from the Age column into a number (float)\n",
        "- Hint: check the function '.apply(convert_to_month)' which works on a dataframe column"
      ]
    },
    {
      "cell_type": "code",
      "execution_count": 461,
      "metadata": {
        "id": "qb0qxwYabnxg"
      },
      "outputs": [],
      "source": [
        "import re\n",
        "\n",
        "def convert_to_months(duration_str):\n",
        "        # Check for missing or empty entries\n",
        "    if pd.isnull(duration_str) or duration_str.strip() == \"\":\n",
        "        return None\n",
        "\n",
        "\n",
        "    # Regular expression to find years and months in the input string\n",
        "    year_pattern = re.compile(r\"(\\d+)\\s*Years?\")\n",
        "    month_pattern = re.compile(r\"(\\d+)\\s*Months?\")\n",
        "\n",
        "    # Search for years and months in the input string\n",
        "    years_match = year_pattern.search(duration_str)\n",
        "    months_match = month_pattern.search(duration_str)\n",
        "\n",
        "    # Extract years and months from the matches\n",
        "    years = int(years_match.group(1)) if years_match else 0\n",
        "    months = int(months_match.group(1)) if months_match else 0\n",
        "\n",
        "    # Convert years to months and add to months\n",
        "    total_months = (years * 12) + months\n",
        "\n",
        "    return float(total_months)\n"
      ]
    },
    {
      "cell_type": "code",
      "execution_count": 462,
      "metadata": {
        "id": "Tmqa7N1Dc72Q"
      },
      "outputs": [],
      "source": [
        "# convert md['Age (M)'] to number\n",
        "# write your code here:\n",
        "md_transposed['Age (M)'] = md_transposed['Age (M)'].apply(convert_to_months)\n",
        "\n",
        "\n",
        "\n",
        "\n"
      ]
    },
    {
      "cell_type": "markdown",
      "metadata": {
        "id": "n4uEWX0skRmJ"
      },
      "source": []
    },
    {
      "cell_type": "markdown",
      "metadata": {
        "id": "uG_SBjqjt8pg"
      },
      "source": [
        "Check the result with 'head'"
      ]
    },
    {
      "cell_type": "code",
      "execution_count": 463,
      "metadata": {
        "colab": {
          "base_uri": "https://localhost:8080/"
        },
        "id": "ATSXGe5IfEaD",
        "outputId": "68f0b34a-18a8-4470-f1b5-31c84ad10483"
      },
      "outputs": [
        {
          "output_type": "stream",
          "name": "stdout",
          "text": [
            "Metadata with converted Age:\n",
            "Date of test          Date       TestID     Country  Age (M)     Sex\n",
            "0               2023-04-13  2334000487D       Spain     47.0  Female\n",
            "1             2023-04-13.1  2331000683D  Netherland     32.0    Male\n",
            "2             2023-04-13.2  2331000884D     Germany     32.0    Male\n",
            "3             2023-04-13.3  2331000880D     Germany     93.0  Female\n",
            "4             2023-04-13.4  2331000851D  Netherland    143.0    Male\n"
          ]
        }
      ],
      "source": [
        "print(\"Metadata with converted Age:\")\n",
        "print(md_transposed.head())"
      ]
    },
    {
      "cell_type": "markdown",
      "metadata": {
        "id": "sY4MxunMXKIn"
      },
      "source": [
        "### Rename the columns of expr\n",
        "- use the Test Number from md['Test number'] as new column names for the expr data"
      ]
    },
    {
      "cell_type": "code",
      "source": [
        "md.shape"
      ],
      "metadata": {
        "colab": {
          "base_uri": "https://localhost:8080/"
        },
        "id": "4SUgxowRe0eD",
        "outputId": "783970fc-3fc3-41de-df3b-467640c145fe"
      },
      "execution_count": 464,
      "outputs": [
        {
          "output_type": "execute_result",
          "data": {
            "text/plain": [
              "(4, 6616)"
            ]
          },
          "metadata": {},
          "execution_count": 464
        }
      ]
    },
    {
      "cell_type": "code",
      "source": [
        "expr.shape"
      ],
      "metadata": {
        "colab": {
          "base_uri": "https://localhost:8080/"
        },
        "id": "raUy7pGye14j",
        "outputId": "9e064c88-79cc-4651-edc0-aa4f7a4399ad"
      },
      "execution_count": 466,
      "outputs": [
        {
          "output_type": "execute_result",
          "data": {
            "text/plain": [
              "(244, 6615)"
            ]
          },
          "metadata": {},
          "execution_count": 466
        }
      ]
    },
    {
      "cell_type": "code",
      "source": [
        "md_1 = md.drop(columns=md.columns[0])"
      ],
      "metadata": {
        "id": "tcr3yDZHfFV4"
      },
      "execution_count": 470,
      "outputs": []
    },
    {
      "cell_type": "code",
      "source": [
        "md_1"
      ],
      "metadata": {
        "colab": {
          "base_uri": "https://localhost:8080/",
          "height": 259
        },
        "id": "Z920WSyWeSE9",
        "outputId": "393fc65b-f4a0-42b0-c897-92f50b37905c"
      },
      "execution_count": 472,
      "outputs": [
        {
          "output_type": "execute_result",
          "data": {
            "text/plain": [
              "        2023-04-13    2023-04-13.1    2023-04-13.2    2023-04-13.3  \\\n",
              "0      2334000487D     2331000683D     2331000884D     2331000880D   \n",
              "1            Spain      Netherland         Germany         Germany   \n",
              "2  3Years 11Months  2Years 8Months  2Years 8Months  7Years 9Months   \n",
              "3           Female            Male            Male          Female   \n",
              "\n",
              "       2023-04-13.4    2023-04-13.5    2023-04-13.6    2023-04-13.7  \\\n",
              "0       2331000851D     2331001025D     2331000881D     2331000879D   \n",
              "1        Netherland          Sweden         Germany         Germany   \n",
              "2  11Years 11Months  4Years 8Months  1Years 9Months  6Years 9Months   \n",
              "3              Male          Female            Male          Female   \n",
              "\n",
              "     2023-04-13.8    2023-04-13.9  ...   2023-06-30.97   2023-06-30.98  \\\n",
              "0     2344000227D     2334000522D  ...     2334002233D     2348000664D   \n",
              "1              UK           Italy  ...        Slovenia          Poland   \n",
              "2  3Years 8Months  3Years 8Months  ...  8Years 8Months  3Years 7Months   \n",
              "3          Female          Female  ...          Female          Female   \n",
              "\n",
              "    2023-06-30.99  2023-06-30.100  2023-06-30.101  2023-06-30.102  \\\n",
              "0     2331003597D     2331003185D     2331003447D     2334002232D   \n",
              "1         Belgium          Norway      Netherland        Slovenia   \n",
              "2  3Years 7Months  1Years 5Months  1Years 5Months  2Years 5Months   \n",
              "3          Female          Female          Female            Male   \n",
              "\n",
              "   2023-06-30.103  2023-06-30.104  2023-06-30.105  2023-06-30.106  \n",
              "0     2344000712D     2331003547D     2344000711D     2334002236D  \n",
              "1              UK      Netherland              UK           Spain  \n",
              "2  2Years 5Months  2Years 5Months  2Years 5Months  2Years 5Months  \n",
              "3            Male            Male            Male            Male  \n",
              "\n",
              "[4 rows x 6615 columns]"
            ],
            "text/html": [
              "\n",
              "  <div id=\"df-2c5bcda0-eb3d-4d63-89c1-0bf96ad8cc51\" class=\"colab-df-container\">\n",
              "    <div>\n",
              "<style scoped>\n",
              "    .dataframe tbody tr th:only-of-type {\n",
              "        vertical-align: middle;\n",
              "    }\n",
              "\n",
              "    .dataframe tbody tr th {\n",
              "        vertical-align: top;\n",
              "    }\n",
              "\n",
              "    .dataframe thead th {\n",
              "        text-align: right;\n",
              "    }\n",
              "</style>\n",
              "<table border=\"1\" class=\"dataframe\">\n",
              "  <thead>\n",
              "    <tr style=\"text-align: right;\">\n",
              "      <th></th>\n",
              "      <th>2023-04-13</th>\n",
              "      <th>2023-04-13.1</th>\n",
              "      <th>2023-04-13.2</th>\n",
              "      <th>2023-04-13.3</th>\n",
              "      <th>2023-04-13.4</th>\n",
              "      <th>2023-04-13.5</th>\n",
              "      <th>2023-04-13.6</th>\n",
              "      <th>2023-04-13.7</th>\n",
              "      <th>2023-04-13.8</th>\n",
              "      <th>2023-04-13.9</th>\n",
              "      <th>...</th>\n",
              "      <th>2023-06-30.97</th>\n",
              "      <th>2023-06-30.98</th>\n",
              "      <th>2023-06-30.99</th>\n",
              "      <th>2023-06-30.100</th>\n",
              "      <th>2023-06-30.101</th>\n",
              "      <th>2023-06-30.102</th>\n",
              "      <th>2023-06-30.103</th>\n",
              "      <th>2023-06-30.104</th>\n",
              "      <th>2023-06-30.105</th>\n",
              "      <th>2023-06-30.106</th>\n",
              "    </tr>\n",
              "  </thead>\n",
              "  <tbody>\n",
              "    <tr>\n",
              "      <th>0</th>\n",
              "      <td>2334000487D</td>\n",
              "      <td>2331000683D</td>\n",
              "      <td>2331000884D</td>\n",
              "      <td>2331000880D</td>\n",
              "      <td>2331000851D</td>\n",
              "      <td>2331001025D</td>\n",
              "      <td>2331000881D</td>\n",
              "      <td>2331000879D</td>\n",
              "      <td>2344000227D</td>\n",
              "      <td>2334000522D</td>\n",
              "      <td>...</td>\n",
              "      <td>2334002233D</td>\n",
              "      <td>2348000664D</td>\n",
              "      <td>2331003597D</td>\n",
              "      <td>2331003185D</td>\n",
              "      <td>2331003447D</td>\n",
              "      <td>2334002232D</td>\n",
              "      <td>2344000712D</td>\n",
              "      <td>2331003547D</td>\n",
              "      <td>2344000711D</td>\n",
              "      <td>2334002236D</td>\n",
              "    </tr>\n",
              "    <tr>\n",
              "      <th>1</th>\n",
              "      <td>Spain</td>\n",
              "      <td>Netherland</td>\n",
              "      <td>Germany</td>\n",
              "      <td>Germany</td>\n",
              "      <td>Netherland</td>\n",
              "      <td>Sweden</td>\n",
              "      <td>Germany</td>\n",
              "      <td>Germany</td>\n",
              "      <td>UK</td>\n",
              "      <td>Italy</td>\n",
              "      <td>...</td>\n",
              "      <td>Slovenia</td>\n",
              "      <td>Poland</td>\n",
              "      <td>Belgium</td>\n",
              "      <td>Norway</td>\n",
              "      <td>Netherland</td>\n",
              "      <td>Slovenia</td>\n",
              "      <td>UK</td>\n",
              "      <td>Netherland</td>\n",
              "      <td>UK</td>\n",
              "      <td>Spain</td>\n",
              "    </tr>\n",
              "    <tr>\n",
              "      <th>2</th>\n",
              "      <td>3Years 11Months</td>\n",
              "      <td>2Years 8Months</td>\n",
              "      <td>2Years 8Months</td>\n",
              "      <td>7Years 9Months</td>\n",
              "      <td>11Years 11Months</td>\n",
              "      <td>4Years 8Months</td>\n",
              "      <td>1Years 9Months</td>\n",
              "      <td>6Years 9Months</td>\n",
              "      <td>3Years 8Months</td>\n",
              "      <td>3Years 8Months</td>\n",
              "      <td>...</td>\n",
              "      <td>8Years 8Months</td>\n",
              "      <td>3Years 7Months</td>\n",
              "      <td>3Years 7Months</td>\n",
              "      <td>1Years 5Months</td>\n",
              "      <td>1Years 5Months</td>\n",
              "      <td>2Years 5Months</td>\n",
              "      <td>2Years 5Months</td>\n",
              "      <td>2Years 5Months</td>\n",
              "      <td>2Years 5Months</td>\n",
              "      <td>2Years 5Months</td>\n",
              "    </tr>\n",
              "    <tr>\n",
              "      <th>3</th>\n",
              "      <td>Female</td>\n",
              "      <td>Male</td>\n",
              "      <td>Male</td>\n",
              "      <td>Female</td>\n",
              "      <td>Male</td>\n",
              "      <td>Female</td>\n",
              "      <td>Male</td>\n",
              "      <td>Female</td>\n",
              "      <td>Female</td>\n",
              "      <td>Female</td>\n",
              "      <td>...</td>\n",
              "      <td>Female</td>\n",
              "      <td>Female</td>\n",
              "      <td>Female</td>\n",
              "      <td>Female</td>\n",
              "      <td>Female</td>\n",
              "      <td>Male</td>\n",
              "      <td>Male</td>\n",
              "      <td>Male</td>\n",
              "      <td>Male</td>\n",
              "      <td>Male</td>\n",
              "    </tr>\n",
              "  </tbody>\n",
              "</table>\n",
              "<p>4 rows × 6615 columns</p>\n",
              "</div>\n",
              "    <div class=\"colab-df-buttons\">\n",
              "\n",
              "  <div class=\"colab-df-container\">\n",
              "    <button class=\"colab-df-convert\" onclick=\"convertToInteractive('df-2c5bcda0-eb3d-4d63-89c1-0bf96ad8cc51')\"\n",
              "            title=\"Convert this dataframe to an interactive table.\"\n",
              "            style=\"display:none;\">\n",
              "\n",
              "  <svg xmlns=\"http://www.w3.org/2000/svg\" height=\"24px\" viewBox=\"0 -960 960 960\">\n",
              "    <path d=\"M120-120v-720h720v720H120Zm60-500h600v-160H180v160Zm220 220h160v-160H400v160Zm0 220h160v-160H400v160ZM180-400h160v-160H180v160Zm440 0h160v-160H620v160ZM180-180h160v-160H180v160Zm440 0h160v-160H620v160Z\"/>\n",
              "  </svg>\n",
              "    </button>\n",
              "\n",
              "  <style>\n",
              "    .colab-df-container {\n",
              "      display:flex;\n",
              "      gap: 12px;\n",
              "    }\n",
              "\n",
              "    .colab-df-convert {\n",
              "      background-color: #E8F0FE;\n",
              "      border: none;\n",
              "      border-radius: 50%;\n",
              "      cursor: pointer;\n",
              "      display: none;\n",
              "      fill: #1967D2;\n",
              "      height: 32px;\n",
              "      padding: 0 0 0 0;\n",
              "      width: 32px;\n",
              "    }\n",
              "\n",
              "    .colab-df-convert:hover {\n",
              "      background-color: #E2EBFA;\n",
              "      box-shadow: 0px 1px 2px rgba(60, 64, 67, 0.3), 0px 1px 3px 1px rgba(60, 64, 67, 0.15);\n",
              "      fill: #174EA6;\n",
              "    }\n",
              "\n",
              "    .colab-df-buttons div {\n",
              "      margin-bottom: 4px;\n",
              "    }\n",
              "\n",
              "    [theme=dark] .colab-df-convert {\n",
              "      background-color: #3B4455;\n",
              "      fill: #D2E3FC;\n",
              "    }\n",
              "\n",
              "    [theme=dark] .colab-df-convert:hover {\n",
              "      background-color: #434B5C;\n",
              "      box-shadow: 0px 1px 3px 1px rgba(0, 0, 0, 0.15);\n",
              "      filter: drop-shadow(0px 1px 2px rgba(0, 0, 0, 0.3));\n",
              "      fill: #FFFFFF;\n",
              "    }\n",
              "  </style>\n",
              "\n",
              "    <script>\n",
              "      const buttonEl =\n",
              "        document.querySelector('#df-2c5bcda0-eb3d-4d63-89c1-0bf96ad8cc51 button.colab-df-convert');\n",
              "      buttonEl.style.display =\n",
              "        google.colab.kernel.accessAllowed ? 'block' : 'none';\n",
              "\n",
              "      async function convertToInteractive(key) {\n",
              "        const element = document.querySelector('#df-2c5bcda0-eb3d-4d63-89c1-0bf96ad8cc51');\n",
              "        const dataTable =\n",
              "          await google.colab.kernel.invokeFunction('convertToInteractive',\n",
              "                                                    [key], {});\n",
              "        if (!dataTable) return;\n",
              "\n",
              "        const docLinkHtml = 'Like what you see? Visit the ' +\n",
              "          '<a target=\"_blank\" href=https://colab.research.google.com/notebooks/data_table.ipynb>data table notebook</a>'\n",
              "          + ' to learn more about interactive tables.';\n",
              "        element.innerHTML = '';\n",
              "        dataTable['output_type'] = 'display_data';\n",
              "        await google.colab.output.renderOutput(dataTable, element);\n",
              "        const docLink = document.createElement('div');\n",
              "        docLink.innerHTML = docLinkHtml;\n",
              "        element.appendChild(docLink);\n",
              "      }\n",
              "    </script>\n",
              "  </div>\n",
              "\n",
              "\n",
              "<div id=\"df-393a6ac2-60f2-40d1-b627-6d026517c19e\">\n",
              "  <button class=\"colab-df-quickchart\" onclick=\"quickchart('df-393a6ac2-60f2-40d1-b627-6d026517c19e')\"\n",
              "            title=\"Suggest charts\"\n",
              "            style=\"display:none;\">\n",
              "\n",
              "<svg xmlns=\"http://www.w3.org/2000/svg\" height=\"24px\"viewBox=\"0 0 24 24\"\n",
              "     width=\"24px\">\n",
              "    <g>\n",
              "        <path d=\"M19 3H5c-1.1 0-2 .9-2 2v14c0 1.1.9 2 2 2h14c1.1 0 2-.9 2-2V5c0-1.1-.9-2-2-2zM9 17H7v-7h2v7zm4 0h-2V7h2v10zm4 0h-2v-4h2v4z\"/>\n",
              "    </g>\n",
              "</svg>\n",
              "  </button>\n",
              "\n",
              "<style>\n",
              "  .colab-df-quickchart {\n",
              "      --bg-color: #E8F0FE;\n",
              "      --fill-color: #1967D2;\n",
              "      --hover-bg-color: #E2EBFA;\n",
              "      --hover-fill-color: #174EA6;\n",
              "      --disabled-fill-color: #AAA;\n",
              "      --disabled-bg-color: #DDD;\n",
              "  }\n",
              "\n",
              "  [theme=dark] .colab-df-quickchart {\n",
              "      --bg-color: #3B4455;\n",
              "      --fill-color: #D2E3FC;\n",
              "      --hover-bg-color: #434B5C;\n",
              "      --hover-fill-color: #FFFFFF;\n",
              "      --disabled-bg-color: #3B4455;\n",
              "      --disabled-fill-color: #666;\n",
              "  }\n",
              "\n",
              "  .colab-df-quickchart {\n",
              "    background-color: var(--bg-color);\n",
              "    border: none;\n",
              "    border-radius: 50%;\n",
              "    cursor: pointer;\n",
              "    display: none;\n",
              "    fill: var(--fill-color);\n",
              "    height: 32px;\n",
              "    padding: 0;\n",
              "    width: 32px;\n",
              "  }\n",
              "\n",
              "  .colab-df-quickchart:hover {\n",
              "    background-color: var(--hover-bg-color);\n",
              "    box-shadow: 0 1px 2px rgba(60, 64, 67, 0.3), 0 1px 3px 1px rgba(60, 64, 67, 0.15);\n",
              "    fill: var(--button-hover-fill-color);\n",
              "  }\n",
              "\n",
              "  .colab-df-quickchart-complete:disabled,\n",
              "  .colab-df-quickchart-complete:disabled:hover {\n",
              "    background-color: var(--disabled-bg-color);\n",
              "    fill: var(--disabled-fill-color);\n",
              "    box-shadow: none;\n",
              "  }\n",
              "\n",
              "  .colab-df-spinner {\n",
              "    border: 2px solid var(--fill-color);\n",
              "    border-color: transparent;\n",
              "    border-bottom-color: var(--fill-color);\n",
              "    animation:\n",
              "      spin 1s steps(1) infinite;\n",
              "  }\n",
              "\n",
              "  @keyframes spin {\n",
              "    0% {\n",
              "      border-color: transparent;\n",
              "      border-bottom-color: var(--fill-color);\n",
              "      border-left-color: var(--fill-color);\n",
              "    }\n",
              "    20% {\n",
              "      border-color: transparent;\n",
              "      border-left-color: var(--fill-color);\n",
              "      border-top-color: var(--fill-color);\n",
              "    }\n",
              "    30% {\n",
              "      border-color: transparent;\n",
              "      border-left-color: var(--fill-color);\n",
              "      border-top-color: var(--fill-color);\n",
              "      border-right-color: var(--fill-color);\n",
              "    }\n",
              "    40% {\n",
              "      border-color: transparent;\n",
              "      border-right-color: var(--fill-color);\n",
              "      border-top-color: var(--fill-color);\n",
              "    }\n",
              "    60% {\n",
              "      border-color: transparent;\n",
              "      border-right-color: var(--fill-color);\n",
              "    }\n",
              "    80% {\n",
              "      border-color: transparent;\n",
              "      border-right-color: var(--fill-color);\n",
              "      border-bottom-color: var(--fill-color);\n",
              "    }\n",
              "    90% {\n",
              "      border-color: transparent;\n",
              "      border-bottom-color: var(--fill-color);\n",
              "    }\n",
              "  }\n",
              "</style>\n",
              "\n",
              "  <script>\n",
              "    async function quickchart(key) {\n",
              "      const quickchartButtonEl =\n",
              "        document.querySelector('#' + key + ' button');\n",
              "      quickchartButtonEl.disabled = true;  // To prevent multiple clicks.\n",
              "      quickchartButtonEl.classList.add('colab-df-spinner');\n",
              "      try {\n",
              "        const charts = await google.colab.kernel.invokeFunction(\n",
              "            'suggestCharts', [key], {});\n",
              "      } catch (error) {\n",
              "        console.error('Error during call to suggestCharts:', error);\n",
              "      }\n",
              "      quickchartButtonEl.classList.remove('colab-df-spinner');\n",
              "      quickchartButtonEl.classList.add('colab-df-quickchart-complete');\n",
              "    }\n",
              "    (() => {\n",
              "      let quickchartButtonEl =\n",
              "        document.querySelector('#df-393a6ac2-60f2-40d1-b627-6d026517c19e button');\n",
              "      quickchartButtonEl.style.display =\n",
              "        google.colab.kernel.accessAllowed ? 'block' : 'none';\n",
              "    })();\n",
              "  </script>\n",
              "</div>\n",
              "\n",
              "  <div id=\"id_67ec6b09-2b18-4228-b628-a55436a0c7e8\">\n",
              "    <style>\n",
              "      .colab-df-generate {\n",
              "        background-color: #E8F0FE;\n",
              "        border: none;\n",
              "        border-radius: 50%;\n",
              "        cursor: pointer;\n",
              "        display: none;\n",
              "        fill: #1967D2;\n",
              "        height: 32px;\n",
              "        padding: 0 0 0 0;\n",
              "        width: 32px;\n",
              "      }\n",
              "\n",
              "      .colab-df-generate:hover {\n",
              "        background-color: #E2EBFA;\n",
              "        box-shadow: 0px 1px 2px rgba(60, 64, 67, 0.3), 0px 1px 3px 1px rgba(60, 64, 67, 0.15);\n",
              "        fill: #174EA6;\n",
              "      }\n",
              "\n",
              "      [theme=dark] .colab-df-generate {\n",
              "        background-color: #3B4455;\n",
              "        fill: #D2E3FC;\n",
              "      }\n",
              "\n",
              "      [theme=dark] .colab-df-generate:hover {\n",
              "        background-color: #434B5C;\n",
              "        box-shadow: 0px 1px 3px 1px rgba(0, 0, 0, 0.15);\n",
              "        filter: drop-shadow(0px 1px 2px rgba(0, 0, 0, 0.3));\n",
              "        fill: #FFFFFF;\n",
              "      }\n",
              "    </style>\n",
              "    <button class=\"colab-df-generate\" onclick=\"generateWithVariable('md_1')\"\n",
              "            title=\"Generate code using this dataframe.\"\n",
              "            style=\"display:none;\">\n",
              "\n",
              "  <svg xmlns=\"http://www.w3.org/2000/svg\" height=\"24px\"viewBox=\"0 0 24 24\"\n",
              "       width=\"24px\">\n",
              "    <path d=\"M7,19H8.4L18.45,9,17,7.55,7,17.6ZM5,21V16.75L18.45,3.32a2,2,0,0,1,2.83,0l1.4,1.43a1.91,1.91,0,0,1,.58,1.4,1.91,1.91,0,0,1-.58,1.4L9.25,21ZM18.45,9,17,7.55Zm-12,3A5.31,5.31,0,0,0,4.9,8.1,5.31,5.31,0,0,0,1,6.5,5.31,5.31,0,0,0,4.9,4.9,5.31,5.31,0,0,0,6.5,1,5.31,5.31,0,0,0,8.1,4.9,5.31,5.31,0,0,0,12,6.5,5.46,5.46,0,0,0,6.5,12Z\"/>\n",
              "  </svg>\n",
              "    </button>\n",
              "    <script>\n",
              "      (() => {\n",
              "      const buttonEl =\n",
              "        document.querySelector('#id_67ec6b09-2b18-4228-b628-a55436a0c7e8 button.colab-df-generate');\n",
              "      buttonEl.style.display =\n",
              "        google.colab.kernel.accessAllowed ? 'block' : 'none';\n",
              "\n",
              "      buttonEl.onclick = () => {\n",
              "        google.colab.notebook.generateWithVariable('md_1');\n",
              "      }\n",
              "      })();\n",
              "    </script>\n",
              "  </div>\n",
              "\n",
              "    </div>\n",
              "  </div>\n"
            ],
            "application/vnd.google.colaboratory.intrinsic+json": {
              "type": "dataframe",
              "variable_name": "md_1"
            }
          },
          "metadata": {},
          "execution_count": 472
        }
      ]
    },
    {
      "cell_type": "code",
      "source": [
        "print(md.iloc[0])"
      ],
      "metadata": {
        "colab": {
          "base_uri": "https://localhost:8080/"
        },
        "id": "zOXmo4-AcsS0",
        "outputId": "26da8be5-1e79-4360-b7af-2a2c689d7105"
      },
      "execution_count": 440,
      "outputs": [
        {
          "output_type": "stream",
          "name": "stdout",
          "text": [
            "Date of test              Age Y/M\n",
            "2023-04-13        3Years 11Months\n",
            "2023-04-13.1       2Years 8Months\n",
            "2023-04-13.2       2Years 8Months\n",
            "2023-04-13.3       7Years 9Months\n",
            "                       ...       \n",
            "2023-06-30.102     2Years 5Months\n",
            "2023-06-30.103     2Years 5Months\n",
            "2023-06-30.104     2Years 5Months\n",
            "2023-06-30.105     2Years 5Months\n",
            "2023-06-30.106     2Years 5Months\n",
            "Name: 2, Length: 6616, dtype: object\n"
          ]
        }
      ]
    },
    {
      "cell_type": "code",
      "source": [
        "expr.columns = md_1.iloc[0]"
      ],
      "metadata": {
        "id": "QiCSjkuYdJLA"
      },
      "execution_count": 475,
      "outputs": []
    },
    {
      "cell_type": "code",
      "source": [
        "expr"
      ],
      "metadata": {
        "colab": {
          "base_uri": "https://localhost:8080/",
          "height": 562
        },
        "id": "ppNHsHE6fnzU",
        "outputId": "de038823-b6a4-41f9-f351-c530cc9bb240"
      },
      "execution_count": 476,
      "outputs": [
        {
          "output_type": "execute_result",
          "data": {
            "text/plain": [
              "0             2334000487D 2331000683D 2331000884D 2331000880D 2331000851D  \\\n",
              "Date of test                                                                \n",
              "rCyn d 1            22.99       21.95       20.66       21.68       20.56   \n",
              "Dac g               19.15       19.57       21.78       18.37       18.12   \n",
              "Fes p               21.84        21.3       26.96       24.05       23.21   \n",
              "rLol p 1            22.33       22.23       22.59       21.99       23.16   \n",
              "Pas n               21.17       22.28       21.03       21.77       20.55   \n",
              "...                   ...         ...         ...         ...         ...   \n",
              "Sola t              22.05       22.33       22.33       21.61       21.85   \n",
              "rSola t 2           22.36       24.08       24.08       16.39       16.83   \n",
              "rSola t_GBSSI       23.43       24.02       24.02       19.78       20.01   \n",
              "rHom s LF           27.51       27.94       27.94       27.75       27.55   \n",
              "CCD-HSA                27       25.61       25.61       24.08       22.01   \n",
              "\n",
              "0             2331001025D 2331000881D 2331000879D 2344000227D 2334000522D  \\\n",
              "Date of test                                                                \n",
              "rCyn d 1            21.62       22.83        23.2       25.07       22.32   \n",
              "Dac g               19.35       19.95       21.52       20.55       19.35   \n",
              "Fes p               22.62       21.98       24.55       20.39       22.08   \n",
              "rLol p 1            21.27       22.99       23.95       21.35       22.06   \n",
              "Pas n               19.32       30.85       23.31       20.62       19.86   \n",
              "...                   ...         ...         ...         ...         ...   \n",
              "Sola t              20.94       19.71       21.27       18.76       18.76   \n",
              "rSola t 2           30.73       18.29        19.2       18.89       18.89   \n",
              "rSola t_GBSSI       24.56       23.26       21.62       21.01       21.01   \n",
              "rHom s LF            27.9       27.82       27.71       27.65       27.65   \n",
              "CCD-HSA             21.98       21.86       21.37       21.24       21.24   \n",
              "\n",
              "0              ... 2334002233D 2348000664D 2331003597D 2331003185D  \\\n",
              "Date of test   ...                                                   \n",
              "rCyn d 1       ...       23.27       21.77       21.78       20.69   \n",
              "Dac g          ...       19.28       20.33       17.34       19.06   \n",
              "Fes p          ...       21.14       22.39       20.93       21.78   \n",
              "rLol p 1       ...       17.81       19.57       22.76       21.23   \n",
              "Pas n          ...       21.95       22.21       19.55       21.57   \n",
              "...            ...         ...         ...         ...         ...   \n",
              "Sola t         ...       20.05       21.44        21.6       18.46   \n",
              "rSola t 2      ...       17.37       19.06        19.1       18.23   \n",
              "rSola t_GBSSI  ...       21.38        20.4       20.35       21.23   \n",
              "rHom s LF      ...       16.05       15.96       15.85       15.76   \n",
              "CCD-HSA        ...       17.95       18.37       17.59       18.89   \n",
              "\n",
              "0             2331003447D 2334002232D 2344000712D 2331003547D 2344000711D  \\\n",
              "Date of test                                                                \n",
              "rCyn d 1            26.49       20.76       21.07       24.48        21.4   \n",
              "Dac g               18.86       17.84       18.67       19.99       21.01   \n",
              "Fes p               19.95       20.64       20.79       19.24       24.33   \n",
              "rLol p 1            21.77       19.41       22.32       20.15        22.7   \n",
              "Pas n               18.23       19.71        21.6       20.64       18.91   \n",
              "...                   ...         ...         ...         ...         ...   \n",
              "Sola t              19.28       19.28       20.99       19.42       19.89   \n",
              "rSola t 2           16.97       16.97       19.72       19.35       17.84   \n",
              "rSola t_GBSSI       20.13       20.13       21.65       21.24       20.97   \n",
              "rHom s LF           15.76       15.76       15.66       15.55       15.44   \n",
              "CCD-HSA             17.13       17.13       17.25       17.78       17.76   \n",
              "\n",
              "0             2334002236D  \n",
              "Date of test               \n",
              "rCyn d 1            20.12  \n",
              "Dac g                17.4  \n",
              "Fes p               20.77  \n",
              "rLol p 1            20.96  \n",
              "Pas n               18.46  \n",
              "...                   ...  \n",
              "Sola t              18.79  \n",
              "rSola t 2           16.53  \n",
              "rSola t_GBSSI       19.07  \n",
              "rHom s LF            14.9  \n",
              "CCD-HSA             16.76  \n",
              "\n",
              "[244 rows x 6615 columns]"
            ],
            "text/html": [
              "\n",
              "  <div id=\"df-8351b56f-17f7-4ed9-bd6e-37a1a6d6d813\" class=\"colab-df-container\">\n",
              "    <div>\n",
              "<style scoped>\n",
              "    .dataframe tbody tr th:only-of-type {\n",
              "        vertical-align: middle;\n",
              "    }\n",
              "\n",
              "    .dataframe tbody tr th {\n",
              "        vertical-align: top;\n",
              "    }\n",
              "\n",
              "    .dataframe thead th {\n",
              "        text-align: right;\n",
              "    }\n",
              "</style>\n",
              "<table border=\"1\" class=\"dataframe\">\n",
              "  <thead>\n",
              "    <tr style=\"text-align: right;\">\n",
              "      <th></th>\n",
              "      <th>2334000487D</th>\n",
              "      <th>2331000683D</th>\n",
              "      <th>2331000884D</th>\n",
              "      <th>2331000880D</th>\n",
              "      <th>2331000851D</th>\n",
              "      <th>2331001025D</th>\n",
              "      <th>2331000881D</th>\n",
              "      <th>2331000879D</th>\n",
              "      <th>2344000227D</th>\n",
              "      <th>2334000522D</th>\n",
              "      <th>...</th>\n",
              "      <th>2334002233D</th>\n",
              "      <th>2348000664D</th>\n",
              "      <th>2331003597D</th>\n",
              "      <th>2331003185D</th>\n",
              "      <th>2331003447D</th>\n",
              "      <th>2334002232D</th>\n",
              "      <th>2344000712D</th>\n",
              "      <th>2331003547D</th>\n",
              "      <th>2344000711D</th>\n",
              "      <th>2334002236D</th>\n",
              "    </tr>\n",
              "    <tr>\n",
              "      <th>Date of test</th>\n",
              "      <th></th>\n",
              "      <th></th>\n",
              "      <th></th>\n",
              "      <th></th>\n",
              "      <th></th>\n",
              "      <th></th>\n",
              "      <th></th>\n",
              "      <th></th>\n",
              "      <th></th>\n",
              "      <th></th>\n",
              "      <th></th>\n",
              "      <th></th>\n",
              "      <th></th>\n",
              "      <th></th>\n",
              "      <th></th>\n",
              "      <th></th>\n",
              "      <th></th>\n",
              "      <th></th>\n",
              "      <th></th>\n",
              "      <th></th>\n",
              "      <th></th>\n",
              "    </tr>\n",
              "  </thead>\n",
              "  <tbody>\n",
              "    <tr>\n",
              "      <th>rCyn d 1</th>\n",
              "      <td>22.99</td>\n",
              "      <td>21.95</td>\n",
              "      <td>20.66</td>\n",
              "      <td>21.68</td>\n",
              "      <td>20.56</td>\n",
              "      <td>21.62</td>\n",
              "      <td>22.83</td>\n",
              "      <td>23.2</td>\n",
              "      <td>25.07</td>\n",
              "      <td>22.32</td>\n",
              "      <td>...</td>\n",
              "      <td>23.27</td>\n",
              "      <td>21.77</td>\n",
              "      <td>21.78</td>\n",
              "      <td>20.69</td>\n",
              "      <td>26.49</td>\n",
              "      <td>20.76</td>\n",
              "      <td>21.07</td>\n",
              "      <td>24.48</td>\n",
              "      <td>21.4</td>\n",
              "      <td>20.12</td>\n",
              "    </tr>\n",
              "    <tr>\n",
              "      <th>Dac g</th>\n",
              "      <td>19.15</td>\n",
              "      <td>19.57</td>\n",
              "      <td>21.78</td>\n",
              "      <td>18.37</td>\n",
              "      <td>18.12</td>\n",
              "      <td>19.35</td>\n",
              "      <td>19.95</td>\n",
              "      <td>21.52</td>\n",
              "      <td>20.55</td>\n",
              "      <td>19.35</td>\n",
              "      <td>...</td>\n",
              "      <td>19.28</td>\n",
              "      <td>20.33</td>\n",
              "      <td>17.34</td>\n",
              "      <td>19.06</td>\n",
              "      <td>18.86</td>\n",
              "      <td>17.84</td>\n",
              "      <td>18.67</td>\n",
              "      <td>19.99</td>\n",
              "      <td>21.01</td>\n",
              "      <td>17.4</td>\n",
              "    </tr>\n",
              "    <tr>\n",
              "      <th>Fes p</th>\n",
              "      <td>21.84</td>\n",
              "      <td>21.3</td>\n",
              "      <td>26.96</td>\n",
              "      <td>24.05</td>\n",
              "      <td>23.21</td>\n",
              "      <td>22.62</td>\n",
              "      <td>21.98</td>\n",
              "      <td>24.55</td>\n",
              "      <td>20.39</td>\n",
              "      <td>22.08</td>\n",
              "      <td>...</td>\n",
              "      <td>21.14</td>\n",
              "      <td>22.39</td>\n",
              "      <td>20.93</td>\n",
              "      <td>21.78</td>\n",
              "      <td>19.95</td>\n",
              "      <td>20.64</td>\n",
              "      <td>20.79</td>\n",
              "      <td>19.24</td>\n",
              "      <td>24.33</td>\n",
              "      <td>20.77</td>\n",
              "    </tr>\n",
              "    <tr>\n",
              "      <th>rLol p 1</th>\n",
              "      <td>22.33</td>\n",
              "      <td>22.23</td>\n",
              "      <td>22.59</td>\n",
              "      <td>21.99</td>\n",
              "      <td>23.16</td>\n",
              "      <td>21.27</td>\n",
              "      <td>22.99</td>\n",
              "      <td>23.95</td>\n",
              "      <td>21.35</td>\n",
              "      <td>22.06</td>\n",
              "      <td>...</td>\n",
              "      <td>17.81</td>\n",
              "      <td>19.57</td>\n",
              "      <td>22.76</td>\n",
              "      <td>21.23</td>\n",
              "      <td>21.77</td>\n",
              "      <td>19.41</td>\n",
              "      <td>22.32</td>\n",
              "      <td>20.15</td>\n",
              "      <td>22.7</td>\n",
              "      <td>20.96</td>\n",
              "    </tr>\n",
              "    <tr>\n",
              "      <th>Pas n</th>\n",
              "      <td>21.17</td>\n",
              "      <td>22.28</td>\n",
              "      <td>21.03</td>\n",
              "      <td>21.77</td>\n",
              "      <td>20.55</td>\n",
              "      <td>19.32</td>\n",
              "      <td>30.85</td>\n",
              "      <td>23.31</td>\n",
              "      <td>20.62</td>\n",
              "      <td>19.86</td>\n",
              "      <td>...</td>\n",
              "      <td>21.95</td>\n",
              "      <td>22.21</td>\n",
              "      <td>19.55</td>\n",
              "      <td>21.57</td>\n",
              "      <td>18.23</td>\n",
              "      <td>19.71</td>\n",
              "      <td>21.6</td>\n",
              "      <td>20.64</td>\n",
              "      <td>18.91</td>\n",
              "      <td>18.46</td>\n",
              "    </tr>\n",
              "    <tr>\n",
              "      <th>...</th>\n",
              "      <td>...</td>\n",
              "      <td>...</td>\n",
              "      <td>...</td>\n",
              "      <td>...</td>\n",
              "      <td>...</td>\n",
              "      <td>...</td>\n",
              "      <td>...</td>\n",
              "      <td>...</td>\n",
              "      <td>...</td>\n",
              "      <td>...</td>\n",
              "      <td>...</td>\n",
              "      <td>...</td>\n",
              "      <td>...</td>\n",
              "      <td>...</td>\n",
              "      <td>...</td>\n",
              "      <td>...</td>\n",
              "      <td>...</td>\n",
              "      <td>...</td>\n",
              "      <td>...</td>\n",
              "      <td>...</td>\n",
              "      <td>...</td>\n",
              "    </tr>\n",
              "    <tr>\n",
              "      <th>Sola t</th>\n",
              "      <td>22.05</td>\n",
              "      <td>22.33</td>\n",
              "      <td>22.33</td>\n",
              "      <td>21.61</td>\n",
              "      <td>21.85</td>\n",
              "      <td>20.94</td>\n",
              "      <td>19.71</td>\n",
              "      <td>21.27</td>\n",
              "      <td>18.76</td>\n",
              "      <td>18.76</td>\n",
              "      <td>...</td>\n",
              "      <td>20.05</td>\n",
              "      <td>21.44</td>\n",
              "      <td>21.6</td>\n",
              "      <td>18.46</td>\n",
              "      <td>19.28</td>\n",
              "      <td>19.28</td>\n",
              "      <td>20.99</td>\n",
              "      <td>19.42</td>\n",
              "      <td>19.89</td>\n",
              "      <td>18.79</td>\n",
              "    </tr>\n",
              "    <tr>\n",
              "      <th>rSola t 2</th>\n",
              "      <td>22.36</td>\n",
              "      <td>24.08</td>\n",
              "      <td>24.08</td>\n",
              "      <td>16.39</td>\n",
              "      <td>16.83</td>\n",
              "      <td>30.73</td>\n",
              "      <td>18.29</td>\n",
              "      <td>19.2</td>\n",
              "      <td>18.89</td>\n",
              "      <td>18.89</td>\n",
              "      <td>...</td>\n",
              "      <td>17.37</td>\n",
              "      <td>19.06</td>\n",
              "      <td>19.1</td>\n",
              "      <td>18.23</td>\n",
              "      <td>16.97</td>\n",
              "      <td>16.97</td>\n",
              "      <td>19.72</td>\n",
              "      <td>19.35</td>\n",
              "      <td>17.84</td>\n",
              "      <td>16.53</td>\n",
              "    </tr>\n",
              "    <tr>\n",
              "      <th>rSola t_GBSSI</th>\n",
              "      <td>23.43</td>\n",
              "      <td>24.02</td>\n",
              "      <td>24.02</td>\n",
              "      <td>19.78</td>\n",
              "      <td>20.01</td>\n",
              "      <td>24.56</td>\n",
              "      <td>23.26</td>\n",
              "      <td>21.62</td>\n",
              "      <td>21.01</td>\n",
              "      <td>21.01</td>\n",
              "      <td>...</td>\n",
              "      <td>21.38</td>\n",
              "      <td>20.4</td>\n",
              "      <td>20.35</td>\n",
              "      <td>21.23</td>\n",
              "      <td>20.13</td>\n",
              "      <td>20.13</td>\n",
              "      <td>21.65</td>\n",
              "      <td>21.24</td>\n",
              "      <td>20.97</td>\n",
              "      <td>19.07</td>\n",
              "    </tr>\n",
              "    <tr>\n",
              "      <th>rHom s LF</th>\n",
              "      <td>27.51</td>\n",
              "      <td>27.94</td>\n",
              "      <td>27.94</td>\n",
              "      <td>27.75</td>\n",
              "      <td>27.55</td>\n",
              "      <td>27.9</td>\n",
              "      <td>27.82</td>\n",
              "      <td>27.71</td>\n",
              "      <td>27.65</td>\n",
              "      <td>27.65</td>\n",
              "      <td>...</td>\n",
              "      <td>16.05</td>\n",
              "      <td>15.96</td>\n",
              "      <td>15.85</td>\n",
              "      <td>15.76</td>\n",
              "      <td>15.76</td>\n",
              "      <td>15.76</td>\n",
              "      <td>15.66</td>\n",
              "      <td>15.55</td>\n",
              "      <td>15.44</td>\n",
              "      <td>14.9</td>\n",
              "    </tr>\n",
              "    <tr>\n",
              "      <th>CCD-HSA</th>\n",
              "      <td>27</td>\n",
              "      <td>25.61</td>\n",
              "      <td>25.61</td>\n",
              "      <td>24.08</td>\n",
              "      <td>22.01</td>\n",
              "      <td>21.98</td>\n",
              "      <td>21.86</td>\n",
              "      <td>21.37</td>\n",
              "      <td>21.24</td>\n",
              "      <td>21.24</td>\n",
              "      <td>...</td>\n",
              "      <td>17.95</td>\n",
              "      <td>18.37</td>\n",
              "      <td>17.59</td>\n",
              "      <td>18.89</td>\n",
              "      <td>17.13</td>\n",
              "      <td>17.13</td>\n",
              "      <td>17.25</td>\n",
              "      <td>17.78</td>\n",
              "      <td>17.76</td>\n",
              "      <td>16.76</td>\n",
              "    </tr>\n",
              "  </tbody>\n",
              "</table>\n",
              "<p>244 rows × 6615 columns</p>\n",
              "</div>\n",
              "    <div class=\"colab-df-buttons\">\n",
              "\n",
              "  <div class=\"colab-df-container\">\n",
              "    <button class=\"colab-df-convert\" onclick=\"convertToInteractive('df-8351b56f-17f7-4ed9-bd6e-37a1a6d6d813')\"\n",
              "            title=\"Convert this dataframe to an interactive table.\"\n",
              "            style=\"display:none;\">\n",
              "\n",
              "  <svg xmlns=\"http://www.w3.org/2000/svg\" height=\"24px\" viewBox=\"0 -960 960 960\">\n",
              "    <path d=\"M120-120v-720h720v720H120Zm60-500h600v-160H180v160Zm220 220h160v-160H400v160Zm0 220h160v-160H400v160ZM180-400h160v-160H180v160Zm440 0h160v-160H620v160ZM180-180h160v-160H180v160Zm440 0h160v-160H620v160Z\"/>\n",
              "  </svg>\n",
              "    </button>\n",
              "\n",
              "  <style>\n",
              "    .colab-df-container {\n",
              "      display:flex;\n",
              "      gap: 12px;\n",
              "    }\n",
              "\n",
              "    .colab-df-convert {\n",
              "      background-color: #E8F0FE;\n",
              "      border: none;\n",
              "      border-radius: 50%;\n",
              "      cursor: pointer;\n",
              "      display: none;\n",
              "      fill: #1967D2;\n",
              "      height: 32px;\n",
              "      padding: 0 0 0 0;\n",
              "      width: 32px;\n",
              "    }\n",
              "\n",
              "    .colab-df-convert:hover {\n",
              "      background-color: #E2EBFA;\n",
              "      box-shadow: 0px 1px 2px rgba(60, 64, 67, 0.3), 0px 1px 3px 1px rgba(60, 64, 67, 0.15);\n",
              "      fill: #174EA6;\n",
              "    }\n",
              "\n",
              "    .colab-df-buttons div {\n",
              "      margin-bottom: 4px;\n",
              "    }\n",
              "\n",
              "    [theme=dark] .colab-df-convert {\n",
              "      background-color: #3B4455;\n",
              "      fill: #D2E3FC;\n",
              "    }\n",
              "\n",
              "    [theme=dark] .colab-df-convert:hover {\n",
              "      background-color: #434B5C;\n",
              "      box-shadow: 0px 1px 3px 1px rgba(0, 0, 0, 0.15);\n",
              "      filter: drop-shadow(0px 1px 2px rgba(0, 0, 0, 0.3));\n",
              "      fill: #FFFFFF;\n",
              "    }\n",
              "  </style>\n",
              "\n",
              "    <script>\n",
              "      const buttonEl =\n",
              "        document.querySelector('#df-8351b56f-17f7-4ed9-bd6e-37a1a6d6d813 button.colab-df-convert');\n",
              "      buttonEl.style.display =\n",
              "        google.colab.kernel.accessAllowed ? 'block' : 'none';\n",
              "\n",
              "      async function convertToInteractive(key) {\n",
              "        const element = document.querySelector('#df-8351b56f-17f7-4ed9-bd6e-37a1a6d6d813');\n",
              "        const dataTable =\n",
              "          await google.colab.kernel.invokeFunction('convertToInteractive',\n",
              "                                                    [key], {});\n",
              "        if (!dataTable) return;\n",
              "\n",
              "        const docLinkHtml = 'Like what you see? Visit the ' +\n",
              "          '<a target=\"_blank\" href=https://colab.research.google.com/notebooks/data_table.ipynb>data table notebook</a>'\n",
              "          + ' to learn more about interactive tables.';\n",
              "        element.innerHTML = '';\n",
              "        dataTable['output_type'] = 'display_data';\n",
              "        await google.colab.output.renderOutput(dataTable, element);\n",
              "        const docLink = document.createElement('div');\n",
              "        docLink.innerHTML = docLinkHtml;\n",
              "        element.appendChild(docLink);\n",
              "      }\n",
              "    </script>\n",
              "  </div>\n",
              "\n",
              "\n",
              "<div id=\"df-1d6d78a1-f3ef-4e58-9f49-bce66cdf1517\">\n",
              "  <button class=\"colab-df-quickchart\" onclick=\"quickchart('df-1d6d78a1-f3ef-4e58-9f49-bce66cdf1517')\"\n",
              "            title=\"Suggest charts\"\n",
              "            style=\"display:none;\">\n",
              "\n",
              "<svg xmlns=\"http://www.w3.org/2000/svg\" height=\"24px\"viewBox=\"0 0 24 24\"\n",
              "     width=\"24px\">\n",
              "    <g>\n",
              "        <path d=\"M19 3H5c-1.1 0-2 .9-2 2v14c0 1.1.9 2 2 2h14c1.1 0 2-.9 2-2V5c0-1.1-.9-2-2-2zM9 17H7v-7h2v7zm4 0h-2V7h2v10zm4 0h-2v-4h2v4z\"/>\n",
              "    </g>\n",
              "</svg>\n",
              "  </button>\n",
              "\n",
              "<style>\n",
              "  .colab-df-quickchart {\n",
              "      --bg-color: #E8F0FE;\n",
              "      --fill-color: #1967D2;\n",
              "      --hover-bg-color: #E2EBFA;\n",
              "      --hover-fill-color: #174EA6;\n",
              "      --disabled-fill-color: #AAA;\n",
              "      --disabled-bg-color: #DDD;\n",
              "  }\n",
              "\n",
              "  [theme=dark] .colab-df-quickchart {\n",
              "      --bg-color: #3B4455;\n",
              "      --fill-color: #D2E3FC;\n",
              "      --hover-bg-color: #434B5C;\n",
              "      --hover-fill-color: #FFFFFF;\n",
              "      --disabled-bg-color: #3B4455;\n",
              "      --disabled-fill-color: #666;\n",
              "  }\n",
              "\n",
              "  .colab-df-quickchart {\n",
              "    background-color: var(--bg-color);\n",
              "    border: none;\n",
              "    border-radius: 50%;\n",
              "    cursor: pointer;\n",
              "    display: none;\n",
              "    fill: var(--fill-color);\n",
              "    height: 32px;\n",
              "    padding: 0;\n",
              "    width: 32px;\n",
              "  }\n",
              "\n",
              "  .colab-df-quickchart:hover {\n",
              "    background-color: var(--hover-bg-color);\n",
              "    box-shadow: 0 1px 2px rgba(60, 64, 67, 0.3), 0 1px 3px 1px rgba(60, 64, 67, 0.15);\n",
              "    fill: var(--button-hover-fill-color);\n",
              "  }\n",
              "\n",
              "  .colab-df-quickchart-complete:disabled,\n",
              "  .colab-df-quickchart-complete:disabled:hover {\n",
              "    background-color: var(--disabled-bg-color);\n",
              "    fill: var(--disabled-fill-color);\n",
              "    box-shadow: none;\n",
              "  }\n",
              "\n",
              "  .colab-df-spinner {\n",
              "    border: 2px solid var(--fill-color);\n",
              "    border-color: transparent;\n",
              "    border-bottom-color: var(--fill-color);\n",
              "    animation:\n",
              "      spin 1s steps(1) infinite;\n",
              "  }\n",
              "\n",
              "  @keyframes spin {\n",
              "    0% {\n",
              "      border-color: transparent;\n",
              "      border-bottom-color: var(--fill-color);\n",
              "      border-left-color: var(--fill-color);\n",
              "    }\n",
              "    20% {\n",
              "      border-color: transparent;\n",
              "      border-left-color: var(--fill-color);\n",
              "      border-top-color: var(--fill-color);\n",
              "    }\n",
              "    30% {\n",
              "      border-color: transparent;\n",
              "      border-left-color: var(--fill-color);\n",
              "      border-top-color: var(--fill-color);\n",
              "      border-right-color: var(--fill-color);\n",
              "    }\n",
              "    40% {\n",
              "      border-color: transparent;\n",
              "      border-right-color: var(--fill-color);\n",
              "      border-top-color: var(--fill-color);\n",
              "    }\n",
              "    60% {\n",
              "      border-color: transparent;\n",
              "      border-right-color: var(--fill-color);\n",
              "    }\n",
              "    80% {\n",
              "      border-color: transparent;\n",
              "      border-right-color: var(--fill-color);\n",
              "      border-bottom-color: var(--fill-color);\n",
              "    }\n",
              "    90% {\n",
              "      border-color: transparent;\n",
              "      border-bottom-color: var(--fill-color);\n",
              "    }\n",
              "  }\n",
              "</style>\n",
              "\n",
              "  <script>\n",
              "    async function quickchart(key) {\n",
              "      const quickchartButtonEl =\n",
              "        document.querySelector('#' + key + ' button');\n",
              "      quickchartButtonEl.disabled = true;  // To prevent multiple clicks.\n",
              "      quickchartButtonEl.classList.add('colab-df-spinner');\n",
              "      try {\n",
              "        const charts = await google.colab.kernel.invokeFunction(\n",
              "            'suggestCharts', [key], {});\n",
              "      } catch (error) {\n",
              "        console.error('Error during call to suggestCharts:', error);\n",
              "      }\n",
              "      quickchartButtonEl.classList.remove('colab-df-spinner');\n",
              "      quickchartButtonEl.classList.add('colab-df-quickchart-complete');\n",
              "    }\n",
              "    (() => {\n",
              "      let quickchartButtonEl =\n",
              "        document.querySelector('#df-1d6d78a1-f3ef-4e58-9f49-bce66cdf1517 button');\n",
              "      quickchartButtonEl.style.display =\n",
              "        google.colab.kernel.accessAllowed ? 'block' : 'none';\n",
              "    })();\n",
              "  </script>\n",
              "</div>\n",
              "\n",
              "  <div id=\"id_115dd59d-c5d5-4884-a50c-8add8a2dd473\">\n",
              "    <style>\n",
              "      .colab-df-generate {\n",
              "        background-color: #E8F0FE;\n",
              "        border: none;\n",
              "        border-radius: 50%;\n",
              "        cursor: pointer;\n",
              "        display: none;\n",
              "        fill: #1967D2;\n",
              "        height: 32px;\n",
              "        padding: 0 0 0 0;\n",
              "        width: 32px;\n",
              "      }\n",
              "\n",
              "      .colab-df-generate:hover {\n",
              "        background-color: #E2EBFA;\n",
              "        box-shadow: 0px 1px 2px rgba(60, 64, 67, 0.3), 0px 1px 3px 1px rgba(60, 64, 67, 0.15);\n",
              "        fill: #174EA6;\n",
              "      }\n",
              "\n",
              "      [theme=dark] .colab-df-generate {\n",
              "        background-color: #3B4455;\n",
              "        fill: #D2E3FC;\n",
              "      }\n",
              "\n",
              "      [theme=dark] .colab-df-generate:hover {\n",
              "        background-color: #434B5C;\n",
              "        box-shadow: 0px 1px 3px 1px rgba(0, 0, 0, 0.15);\n",
              "        filter: drop-shadow(0px 1px 2px rgba(0, 0, 0, 0.3));\n",
              "        fill: #FFFFFF;\n",
              "      }\n",
              "    </style>\n",
              "    <button class=\"colab-df-generate\" onclick=\"generateWithVariable('expr')\"\n",
              "            title=\"Generate code using this dataframe.\"\n",
              "            style=\"display:none;\">\n",
              "\n",
              "  <svg xmlns=\"http://www.w3.org/2000/svg\" height=\"24px\"viewBox=\"0 0 24 24\"\n",
              "       width=\"24px\">\n",
              "    <path d=\"M7,19H8.4L18.45,9,17,7.55,7,17.6ZM5,21V16.75L18.45,3.32a2,2,0,0,1,2.83,0l1.4,1.43a1.91,1.91,0,0,1,.58,1.4,1.91,1.91,0,0,1-.58,1.4L9.25,21ZM18.45,9,17,7.55Zm-12,3A5.31,5.31,0,0,0,4.9,8.1,5.31,5.31,0,0,0,1,6.5,5.31,5.31,0,0,0,4.9,4.9,5.31,5.31,0,0,0,6.5,1,5.31,5.31,0,0,0,8.1,4.9,5.31,5.31,0,0,0,12,6.5,5.46,5.46,0,0,0,6.5,12Z\"/>\n",
              "  </svg>\n",
              "    </button>\n",
              "    <script>\n",
              "      (() => {\n",
              "      const buttonEl =\n",
              "        document.querySelector('#id_115dd59d-c5d5-4884-a50c-8add8a2dd473 button.colab-df-generate');\n",
              "      buttonEl.style.display =\n",
              "        google.colab.kernel.accessAllowed ? 'block' : 'none';\n",
              "\n",
              "      buttonEl.onclick = () => {\n",
              "        google.colab.notebook.generateWithVariable('expr');\n",
              "      }\n",
              "      })();\n",
              "    </script>\n",
              "  </div>\n",
              "\n",
              "    </div>\n",
              "  </div>\n"
            ],
            "application/vnd.google.colaboratory.intrinsic+json": {
              "type": "dataframe",
              "variable_name": "expr"
            }
          },
          "metadata": {},
          "execution_count": 476
        }
      ]
    },
    {
      "cell_type": "markdown",
      "metadata": {
        "id": "rDGDdLM8XphK"
      },
      "source": [
        "### Print the shapes of both tables\n",
        "- check if the number of columns in expr matches the number of rows in md"
      ]
    },
    {
      "cell_type": "code",
      "execution_count": 477,
      "metadata": {
        "colab": {
          "base_uri": "https://localhost:8080/"
        },
        "id": "foZnuWy9pBYX",
        "outputId": "c39d344b-5bcc-44b8-da2a-97ed9794bc3e"
      },
      "outputs": [
        {
          "output_type": "stream",
          "name": "stdout",
          "text": [
            "Shape of metadata (md): (4, 6616)\n",
            "Shape of expression (expr): (244, 6615)\n"
          ]
        }
      ],
      "source": [
        "print(\"Shape of metadata (md):\", md.shape)\n",
        "print(\"Shape of expression (expr):\", expr.shape)"
      ]
    },
    {
      "cell_type": "markdown",
      "metadata": {
        "id": "nOLYa7r6fk2t"
      },
      "source": [
        "### Dropping duplicates and keep='first'"
      ]
    },
    {
      "cell_type": "code",
      "execution_count": 479,
      "metadata": {
        "id": "e7XyxZV5SHBb",
        "colab": {
          "base_uri": "https://localhost:8080/"
        },
        "outputId": "4d239774-1fa8-487a-fb6f-82f248cdb0d8"
      },
      "outputs": [
        {
          "output_type": "execute_result",
          "data": {
            "text/plain": [
              "0       False\n",
              "1       False\n",
              "2       False\n",
              "3       False\n",
              "4       False\n",
              "        ...  \n",
              "6610    False\n",
              "6611    False\n",
              "6612     True\n",
              "6613    False\n",
              "6614    False\n",
              "Name: TestID, Length: 6615, dtype: bool"
            ]
          },
          "metadata": {},
          "execution_count": 479
        }
      ],
      "source": [
        "# This function can be use to inspect if there a duplictes within a column\n",
        "md_transposed['TestID'].duplicated()\n"
      ]
    },
    {
      "cell_type": "code",
      "execution_count": 481,
      "metadata": {
        "id": "bEKgsnPafkRb"
      },
      "outputs": [],
      "source": [
        "# remove duplicate values in TestID column\n",
        "# Hint: check the function: 'drop_duplicates'\n",
        "# Hint: use the parameter 'keep='first'' to keep the first occurance and remove following duplicates\n",
        "\n",
        "md_unique = md_transposed.drop_duplicates(subset='TestID', keep='first')"
      ]
    },
    {
      "cell_type": "markdown",
      "metadata": {
        "id": "CjgXThY1f8FS"
      },
      "source": [
        "Don't forget to drop the duplicates on the expression data as well:"
      ]
    },
    {
      "cell_type": "code",
      "execution_count": 484,
      "metadata": {
        "colab": {
          "base_uri": "https://localhost:8080/"
        },
        "id": "_9b1mQlLgHOe",
        "outputId": "58648576-f8d0-4aef-b248-289f41a1cb79"
      },
      "outputs": [
        {
          "output_type": "stream",
          "name": "stdout",
          "text": [
            "0             2334000487D 2331000683D 2331000884D 2331000880D 2331000851D  \\\n",
            "Date of test                                                                \n",
            "rCyn d 1            22.99       21.95       20.66       21.68       20.56   \n",
            "Dac g               19.15       19.57       21.78       18.37       18.12   \n",
            "Fes p               21.84        21.3       26.96       24.05       23.21   \n",
            "rLol p 1            22.33       22.23       22.59       21.99       23.16   \n",
            "Pas n               21.17       22.28       21.03       21.77       20.55   \n",
            "...                   ...         ...         ...         ...         ...   \n",
            "Sola t              22.05       22.33       22.33       21.61       21.85   \n",
            "rSola t 2           22.36       24.08       24.08       16.39       16.83   \n",
            "rSola t_GBSSI       23.43       24.02       24.02       19.78       20.01   \n",
            "rHom s LF           27.51       27.94       27.94       27.75       27.55   \n",
            "CCD-HSA                27       25.61       25.61       24.08       22.01   \n",
            "\n",
            "0             2331001025D 2331000881D 2331000879D 2344000227D 2334000522D  \\\n",
            "Date of test                                                                \n",
            "rCyn d 1            21.62       22.83        23.2       25.07       22.32   \n",
            "Dac g               19.35       19.95       21.52       20.55       19.35   \n",
            "Fes p               22.62       21.98       24.55       20.39       22.08   \n",
            "rLol p 1            21.27       22.99       23.95       21.35       22.06   \n",
            "Pas n               19.32       30.85       23.31       20.62       19.86   \n",
            "...                   ...         ...         ...         ...         ...   \n",
            "Sola t              20.94       19.71       21.27       18.76       18.76   \n",
            "rSola t 2           30.73       18.29        19.2       18.89       18.89   \n",
            "rSola t_GBSSI       24.56       23.26       21.62       21.01       21.01   \n",
            "rHom s LF            27.9       27.82       27.71       27.65       27.65   \n",
            "CCD-HSA             21.98       21.86       21.37       21.24       21.24   \n",
            "\n",
            "0              ... 2331003699D 2334002240D 2334002234D 2331003698D  \\\n",
            "Date of test   ...                                                   \n",
            "rCyn d 1       ...       23.13       23.03       19.06       20.64   \n",
            "Dac g          ...        20.5       20.03       17.31       16.56   \n",
            "Fes p          ...       24.38       20.36       21.08       21.52   \n",
            "rLol p 1       ...       22.69       19.67       21.06       21.25   \n",
            "Pas n          ...       26.09       19.76       16.79       21.18   \n",
            "...            ...         ...         ...         ...         ...   \n",
            "Sola t         ...       18.42       18.42       18.77       18.57   \n",
            "rSola t 2      ...       17.62       17.62        18.6       18.03   \n",
            "rSola t_GBSSI  ...       22.63       22.63       21.86       19.62   \n",
            "rHom s LF      ...       16.13       16.13        16.1       16.06   \n",
            "CCD-HSA        ...       20.13       20.13       19.42       17.99   \n",
            "\n",
            "0             2331003563D 2334002233D 2334002232D 2344000712D 2344000711D  \\\n",
            "Date of test                                                                \n",
            "rCyn d 1           553.83       23.27       20.76       21.07        21.4   \n",
            "Dac g               18.56       19.28       17.84       18.67       21.01   \n",
            "Fes p               22.43       21.14       20.64       20.79       24.33   \n",
            "rLol p 1            25.45       17.81       19.41       22.32        22.7   \n",
            "Pas n               23.47       21.95       19.71        21.6       18.91   \n",
            "...                   ...         ...         ...         ...         ...   \n",
            "Sola t              19.38       20.05       19.28       20.99       19.89   \n",
            "rSola t 2           15.48       17.37       16.97       19.72       17.84   \n",
            "rSola t_GBSSI       20.64       21.38       20.13       21.65       20.97   \n",
            "rHom s LF           16.06       16.05       15.76       15.66       15.44   \n",
            "CCD-HSA             18.01       17.95       17.13       17.25       17.76   \n",
            "\n",
            "0             2334002236D  \n",
            "Date of test               \n",
            "rCyn d 1            20.12  \n",
            "Dac g                17.4  \n",
            "Fes p               20.77  \n",
            "rLol p 1            20.96  \n",
            "Pas n               18.46  \n",
            "...                   ...  \n",
            "Sola t              18.79  \n",
            "rSola t 2           16.53  \n",
            "rSola t_GBSSI       19.07  \n",
            "rHom s LF            14.9  \n",
            "CCD-HSA             16.76  \n",
            "\n",
            "[244 rows x 5814 columns]\n"
          ]
        }
      ],
      "source": [
        "# example:\n",
        "\n",
        "\n",
        "# df = df.loc[:, ~df.columns.duplicated()]\n",
        "\n",
        "expr_unique = expr.loc[:, ~expr.columns.duplicated()]\n",
        "print(expr_unique)\n",
        "\n",
        "# where df.columns.duplicated(): returns a boolean array of duplicates\n",
        "# ~ negates the boolean values: True is False and False is True\n"
      ]
    },
    {
      "cell_type": "markdown",
      "metadata": {
        "id": "ilTwsoAtiJxc"
      },
      "source": [
        "### Print the shapes of both table and make sure the number of rows in md and the number of columns in expr are matching"
      ]
    },
    {
      "cell_type": "markdown",
      "metadata": {
        "id": "3J5PXgF6JDmz"
      },
      "source": [
        "### Saving the DATA\n",
        "After initial cleaning, let's save the data in its current form:\n",
        "- save both tables as csv file in the current directory"
      ]
    },
    {
      "cell_type": "code",
      "execution_count": 485,
      "metadata": {
        "id": "7XaJwznRJisK"
      },
      "outputs": [],
      "source": [
        "md_unique.to_csv('metadata.csv', index=False)\n",
        "\n",
        "expr_unique.to_csv('expression_data.csv', index=False)\n"
      ]
    },
    {
      "cell_type": "markdown",
      "metadata": {
        "id": "gMFOzMKyM4_0"
      },
      "source": [
        "### Subsetting the data\n",
        "- subset the metadata and expression data to county = 'Spain'\n",
        "\n",
        "Hint: use the TestID on the filtered data to subset on the expression data"
      ]
    },
    {
      "cell_type": "code",
      "execution_count": 495,
      "metadata": {
        "colab": {
          "base_uri": "https://localhost:8080/"
        },
        "id": "_eFTKBZGNMgI",
        "outputId": "4f953d33-08ba-4007-8a82-689f28693c0d"
      },
      "outputs": [
        {
          "output_type": "stream",
          "name": "stdout",
          "text": [
            "Date of test            Date       TestID Country  Age (M)     Sex\n",
            "0                 2023-04-13  2334000487D   Spain     47.0  Female\n",
            "11             2023-04-13.11  2334000505D   Spain     20.0  Female\n",
            "15             2023-04-13.15  2334000499D   Spain     44.0  Female\n",
            "18             2023-04-13.18  2334000473D   Spain     81.0  Female\n",
            "20             2023-04-13.20  2334000501D   Spain     93.0  Female\n",
            "...                      ...          ...     ...      ...     ...\n",
            "6475          2023-06-29.121  2334002191D   Spain     50.0  Female\n",
            "6490          2023-06-29.136  2334002204D   Spain     70.0    Male\n",
            "6495          2023-06-29.141  2334002203D   Spain     64.0    Male\n",
            "6567           2023-06-30.59  2334002235D   Spain    134.0  Female\n",
            "6614          2023-06-30.106  2334002236D   Spain     29.0    Male\n",
            "\n",
            "[522 rows x 5 columns]\n",
            "0             2334000487D 2334000505D 2334000505D 2334000499D 2334000473D  \\\n",
            "Date of test                                                                \n",
            "rCyn d 1            22.99       22.43       22.43       22.35       19.35   \n",
            "Dac g               19.15       17.78       17.78       19.84       18.46   \n",
            "Fes p               21.84       20.18       20.18       21.42       22.56   \n",
            "rLol p 1            22.33       18.16       18.16       24.26       22.83   \n",
            "Pas n               21.17       19.57       19.57        20.8        19.1   \n",
            "...                   ...         ...         ...         ...         ...   \n",
            "Sola t              22.05       20.76       21.44       21.71       22.08   \n",
            "rSola t 2           22.36       16.73       18.27        20.3       20.77   \n",
            "rSola t_GBSSI       23.43        20.6       19.82       19.18       23.71   \n",
            "rHom s LF           27.51       27.84       25.36       27.61       27.65   \n",
            "CCD-HSA                27       21.17       18.26       20.55       20.19   \n",
            "\n",
            "0             2334000501D 2334000501D 2334000506D 2334000506D 2334000528D  \\\n",
            "Date of test                                                                \n",
            "rCyn d 1            23.26       23.26       21.81       21.81       23.01   \n",
            "Dac g               21.16       21.16       19.92       19.92       19.55   \n",
            "Fes p               22.57       22.57       20.73       20.73       23.41   \n",
            "rLol p 1            21.69       21.69        22.9        22.9       22.67   \n",
            "Pas n               21.45       21.45       20.96       20.96       20.47   \n",
            "...                   ...         ...         ...         ...         ...   \n",
            "Sola t              19.74       17.38       21.03       24.83       21.78   \n",
            "rSola t 2           18.76       17.98       17.24       20.96       20.29   \n",
            "rSola t_GBSSI       22.57       19.68       19.23       21.23        23.2   \n",
            "rHom s LF           27.81       24.82       27.87       25.14       27.44   \n",
            "CCD-HSA             19.06       20.52       18.62       21.01       27.57   \n",
            "\n",
            "0              ... 2334002211D 2334002210D 2334002209D 2334002208D  \\\n",
            "Date of test   ...                                                   \n",
            "rCyn d 1       ...       22.12       22.02       33.98       22.35   \n",
            "Dac g          ...       17.99          19       19.67       19.42   \n",
            "Fes p          ...       18.71       17.35       20.37        21.3   \n",
            "rLol p 1       ...       20.32       21.78       21.61       20.91   \n",
            "Pas n          ...       17.92       19.32       19.88       19.71   \n",
            "...            ...         ...         ...         ...         ...   \n",
            "Sola t         ...       18.19       20.01       19.18       21.82   \n",
            "rSola t 2      ...       17.31       17.48       16.57       21.16   \n",
            "rSola t_GBSSI  ...       18.47       23.31       20.84       23.38   \n",
            "rHom s LF      ...       17.48       17.44        17.4       17.38   \n",
            "CCD-HSA        ...       18.76       19.47       17.58       18.56   \n",
            "\n",
            "0             2334002208D 2334002191D 2334002204D 2334002203D 2334002235D  \\\n",
            "Date of test                                                                \n",
            "rCyn d 1            22.35       21.64        20.8        23.1       21.79   \n",
            "Dac g               19.42       17.41       19.18       16.93       18.67   \n",
            "Fes p                21.3       18.64       21.82       18.81       18.97   \n",
            "rLol p 1            20.91       20.01       21.52       21.03       19.57   \n",
            "Pas n               19.71       18.01       17.99       20.99          19   \n",
            "...                   ...         ...         ...         ...         ...   \n",
            "Sola t              19.34       17.84       21.28       20.87       20.02   \n",
            "rSola t 2           16.53       18.56       17.28       17.37       19.04   \n",
            "rSola t_GBSSI        21.3       21.67       20.77       22.99       19.54   \n",
            "rHom s LF           17.15       17.37       17.34       17.31       16.76   \n",
            "CCD-HSA             18.03       18.33       17.11       16.56        20.3   \n",
            "\n",
            "0             2334002236D  \n",
            "Date of test               \n",
            "rCyn d 1            20.12  \n",
            "Dac g                17.4  \n",
            "Fes p               20.77  \n",
            "rLol p 1            20.96  \n",
            "Pas n               18.46  \n",
            "...                   ...  \n",
            "Sola t              18.79  \n",
            "rSola t 2           16.53  \n",
            "rSola t_GBSSI       19.07  \n",
            "rHom s LF            14.9  \n",
            "CCD-HSA             16.76  \n",
            "\n",
            "[244 rows x 629 columns]\n"
          ]
        }
      ],
      "source": [
        "md_spain = md_unique[md_unique['Country'] == 'Spain']\n",
        "\n",
        "print(md_spain)\n",
        "\n",
        "test_ids_spain = md_spain['TestID']\n",
        "\n",
        "test_ids_spain_str = [str(col) for col in test_ids_spain]\n",
        "\n",
        "expr.columns = expr.columns.astype(str)\n",
        "\n",
        "expr_spain = expr[test_ids_spain_str]\n",
        "\n",
        "print(expr_spain)"
      ]
    },
    {
      "cell_type": "markdown",
      "metadata": {
        "id": "jlFeuh7lwT5G"
      },
      "source": [
        "- Print the shapes to check the result"
      ]
    },
    {
      "cell_type": "code",
      "execution_count": 496,
      "metadata": {
        "colab": {
          "base_uri": "https://localhost:8080/"
        },
        "id": "bU2obVLnPZiH",
        "outputId": "353a3cb8-61c0-4217-a78a-1a38720a49e1"
      },
      "outputs": [
        {
          "output_type": "stream",
          "name": "stdout",
          "text": [
            "(522, 5)\n"
          ]
        }
      ],
      "source": [
        "print(md_spain.shape)"
      ]
    },
    {
      "cell_type": "markdown",
      "metadata": {
        "id": "N9F2SKGsKHB_"
      },
      "source": [
        "# Exploration of the expression data\n",
        "To gain an initial understanding of the expression data, we need to filter out the noise. Currently, noise is defined as values below 30.\n",
        "\n",
        "- Convert the expr dataframe into a numpy array\n",
        "- Set values below 30 to 0.0\n",
        "\n",
        "Remove rows were all values are 0\n",
        "- use the 'sum' method (axsis = 1) to the the sums of each row\n",
        "- use this rowsum values to subset the array"
      ]
    },
    {
      "cell_type": "code",
      "execution_count": 497,
      "metadata": {
        "id": "oL1ccxGwKAvi"
      },
      "outputs": [],
      "source": [
        "# Convert to numpy\n",
        "import numpy as np\n",
        "expr_array = expr.to_numpy()\n"
      ]
    },
    {
      "cell_type": "code",
      "execution_count": 498,
      "metadata": {
        "id": "pveqaIH8LJhH"
      },
      "outputs": [],
      "source": [
        "# Set values below 30 to 0\n",
        "# Hint:\n",
        "# 'my_array < value' will return a boolean array which can be used\n",
        "expr_array[expr_array < 30] = 0.0\n"
      ]
    },
    {
      "cell_type": "code",
      "execution_count": 499,
      "metadata": {
        "id": "5RgqJExRQLfh"
      },
      "outputs": [],
      "source": [
        "# Calculate row sums\n",
        "\n",
        "row_sums = np.sum(expr_array, axis=1)\n",
        "\n",
        "# Filter rows where the sum is not 0\n",
        "expr_array_filtered = expr_array[row_sums > 0]\n"
      ]
    },
    {
      "cell_type": "markdown",
      "metadata": {
        "id": "x3L9CpZ2L-Ek"
      },
      "source": [
        "### Visualize the Expression Data\n",
        "\n",
        "The follwing code is provided. Just make sure you replace the names of the variables with your variable names."
      ]
    },
    {
      "cell_type": "code",
      "execution_count": 505,
      "metadata": {
        "id": "nOyW1XMvLu_Q"
      },
      "outputs": [],
      "source": [
        "import seaborn as sns\n",
        "# import pandas as pd\n",
        "from sklearn.cluster import KMeans  # Example clustering algorithm\n",
        "from sklearn.preprocessing import StandardScaler"
      ]
    },
    {
      "cell_type": "code",
      "execution_count": 506,
      "metadata": {
        "id": "U6smHFUIL7_M"
      },
      "outputs": [],
      "source": [
        "# Standardize data (optional)\n",
        "scaler = StandardScaler()\n",
        " # use the name of your array\n",
        "scaled_exp = scaler.fit_transform(expr_array_filtered)"
      ]
    },
    {
      "cell_type": "code",
      "source": [
        "import sys\n",
        "sys.setrecursionlimit(10000)"
      ],
      "metadata": {
        "id": "pGQXC_98kpCN"
      },
      "execution_count": 508,
      "outputs": []
    },
    {
      "cell_type": "code",
      "execution_count": 509,
      "metadata": {
        "colab": {
          "base_uri": "https://localhost:8080/",
          "height": 914
        },
        "id": "ZBG43Yg6MW0h",
        "outputId": "e9ec69f6-dc00-4448-b848-bd64cb9b1e80"
      },
      "outputs": [
        {
          "output_type": "stream",
          "name": "stderr",
          "text": [
            "/usr/local/lib/python3.10/dist-packages/seaborn/matrix.py:560: UserWarning: Clustering large matrix with scipy. Installing `fastcluster` may give better performance.\n",
            "  warnings.warn(msg)\n",
            "/usr/local/lib/python3.10/dist-packages/seaborn/matrix.py:560: UserWarning: Clustering large matrix with scipy. Installing `fastcluster` may give better performance.\n",
            "  warnings.warn(msg)\n"
          ]
        },
        {
          "output_type": "execute_result",
          "data": {
            "text/plain": [
              "<seaborn.matrix.ClusterGrid at 0x7d509fc8b4c0>"
            ]
          },
          "metadata": {},
          "execution_count": 509
        },
        {
          "output_type": "display_data",
          "data": {
            "text/plain": [
              "<Figure size 1000x800 with 4 Axes>"
            ],
            "image/png": "[encoded data removed]"
          },
          "metadata": {}
        }
      ],
      "source": [
        "# Create the clustermap with hierarchical clustering\n",
        "sns.clustermap(scaled_exp,\n",
        "               method='ward',  # Linkage method (ward, single, complete, average, etc.)\n",
        "               metric='euclidean',  # Distance metric (euclidean, cityblock, etc.)\n",
        "               cmap=\"YlGnBu\",       # Colormap\n",
        "               figsize=(10, 8))    # Figure size"
      ]
    },
    {
      "cell_type": "code",
      "source": [
        "import matplotlib.pyplot as plt\n",
        "from sklearn.preprocessing import StandardScaler"
      ],
      "metadata": {
        "id": "cADFGmUS4zWs"
      },
      "execution_count": 503,
      "outputs": []
    },
    {
      "cell_type": "markdown",
      "metadata": {
        "id": "qYo7-frTTQsF"
      },
      "source": [
        "### Right click the plot and save the heatmap as image\n",
        "\n",
        "# Done. Congratulations!"
      ]
    }
  ],
  "metadata": {
    "colab": {
      "provenance": []
    },
    "kernelspec": {
      "display_name": "Python 3",
      "name": "python3"
    },
    "language_info": {
      "name": "python"
    }
  },
  "nbformat": 4,
  "nbformat_minor": 0
}